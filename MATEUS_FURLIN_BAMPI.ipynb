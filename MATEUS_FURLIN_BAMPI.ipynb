{
  "cells": [
    {
      "cell_type": "markdown",
      "metadata": {
        "id": "dTMc-kpbKhym"
      },
      "source": [
        "#Code developed for the Kearney Analytics Assessment\n",
        "####Developed using Google Colab environment\n",
        "\n",
        "Mateus Furlin Bampi - 20/03/2022\n"
      ]
    },
    {
      "cell_type": "markdown",
      "metadata": {
        "id": "i7CwgWCUgdRU"
      },
      "source": [
        "#1 - Initial Data Analysis"
      ]
    },
    {
      "cell_type": "markdown",
      "metadata": {
        "id": "ZpxSvBhkLgKu"
      },
      "source": [
        "##A. Exploratory Data Analysis"
      ]
    },
    {
      "cell_type": "markdown",
      "metadata": {
        "id": "b3aKFKYjg3C8"
      },
      "source": [
        "### A1. Read, clean and explore the received data. Explain each step and why."
      ]
    },
    {
      "cell_type": "code",
      "execution_count": 1,
      "metadata": {
        "id": "jTxuFhv3cH0u"
      },
      "outputs": [],
      "source": [
        "# Starting by reading the document provided we can tell that this is a classification problem; \n",
        "# Based on the classes provided we're trying to guess what's going to be the outcome of our target class 'collected';\n",
        "# We can remove the columns 'client_id' and 'contractor_id' because they won't add any information to our model;\n",
        "# There are several columns that are categorical that will have to be converted to numerical in order to train the model;"
      ]
    },
    {
      "cell_type": "code",
      "execution_count": 2,
      "metadata": {
        "id": "7UuonUrmJmoQ"
      },
      "outputs": [],
      "source": [
        "#Importing libraries that will be used during this exercise\n",
        "import pandas as pd\n",
        "import numpy as np\n",
        "import matplotlib.pyplot as plt\n",
        "import seaborn as sns\n",
        "import xgboost\n",
        "from sklearn.feature_selection import SelectKBest\n",
        "from sklearn.feature_selection import chi2\n",
        "from sklearn.preprocessing import MinMaxScaler\n",
        "from sklearn.model_selection import train_test_split\n",
        "from sklearn.tree import DecisionTreeClassifier\n",
        "from sklearn.ensemble import RandomForestClassifier\n",
        "from sklearn.model_selection import RandomizedSearchCV\n",
        "from sklearn import metrics\n",
        "from sklearn.metrics import confusion_matrix\n",
        "from sklearn import tree\n",
        "from sklearn.utils import resample\n",
        "import os"
      ]
    },
    {
      "cell_type": "code",
      "execution_count": 3,
      "metadata": {
        "colab": {
          "base_uri": "https://localhost:8080/"
        },
        "id": "lVa5ppPsJmmO",
        "outputId": "fb011282-87de-4512-af1c-8a68d0098434"
      },
      "outputs": [
        {
          "output_type": "stream",
          "name": "stdout",
          "text": [
            "Mounted at /content/drive/\n"
          ]
        }
      ],
      "source": [
        "#Importing data straight from google drive\n",
        "from google.colab import drive\n",
        "drive.mount('/content/drive/')\n",
        "\n",
        "workdir_path = '/content/drive/My Drive/Kearney' #path to the workspace with the data\n",
        "os.chdir(workdir_path)"
      ]
    },
    {
      "cell_type": "code",
      "execution_count": 4,
      "metadata": {
        "id": "HQVtWFb0LtB6"
      },
      "outputs": [],
      "source": [
        "#Storing data to a dataframe to be manipulated\n",
        "df = pd.read_csv(\"utilities_disconnection.csv\", delimiter=\";\", decimal=',')"
      ]
    },
    {
      "cell_type": "code",
      "execution_count": 5,
      "metadata": {
        "colab": {
          "base_uri": "https://localhost:8080/",
          "height": 0
        },
        "id": "jF_MCM-KMhSo",
        "outputId": "74b27bcc-e462-4d32-a3a0-c287def75312"
      },
      "outputs": [
        {
          "output_type": "execute_result",
          "data": {
            "text/plain": [
              "   client_id  regional   site  client_class  client_subclass  \\\n",
              "0          0         1  13414             1                7   \n",
              "1          1         1  14071             1                1   \n",
              "2          2         1  12380             1                1   \n",
              "\n",
              "           connection_type connection_status  installment_value  \\\n",
              "0  single-phase connection      disconnected             252.39   \n",
              "1  single-phase connection      disconnected               0.00   \n",
              "2      biphasic connection      disconnected               0.00   \n",
              "\n",
              "  installment_status  total_debt  total_bills disconnection_date  \\\n",
              "0           complete      662.62            4         2017-03-06   \n",
              "1                NaN     1202.45           17         2017-03-31   \n",
              "2                NaN      352.56            1         2017-03-20   \n",
              "\n",
              "  disconnection_requested  contractor_id disconnection_executed  collected  \n",
              "0           circuit_break           66.0          circuit_break        0.0  \n",
              "1           circuit_break           73.0          circuit_break        0.0  \n",
              "2           circuit_break           20.0          circuit_break        0.0  "
            ],
            "text/html": [
              "\n",
              "  <div id=\"df-3e24fab5-a77e-4004-a8b0-6cf1de2e89ec\">\n",
              "    <div class=\"colab-df-container\">\n",
              "      <div>\n",
              "<style scoped>\n",
              "    .dataframe tbody tr th:only-of-type {\n",
              "        vertical-align: middle;\n",
              "    }\n",
              "\n",
              "    .dataframe tbody tr th {\n",
              "        vertical-align: top;\n",
              "    }\n",
              "\n",
              "    .dataframe thead th {\n",
              "        text-align: right;\n",
              "    }\n",
              "</style>\n",
              "<table border=\"1\" class=\"dataframe\">\n",
              "  <thead>\n",
              "    <tr style=\"text-align: right;\">\n",
              "      <th></th>\n",
              "      <th>client_id</th>\n",
              "      <th>regional</th>\n",
              "      <th>site</th>\n",
              "      <th>client_class</th>\n",
              "      <th>client_subclass</th>\n",
              "      <th>connection_type</th>\n",
              "      <th>connection_status</th>\n",
              "      <th>installment_value</th>\n",
              "      <th>installment_status</th>\n",
              "      <th>total_debt</th>\n",
              "      <th>total_bills</th>\n",
              "      <th>disconnection_date</th>\n",
              "      <th>disconnection_requested</th>\n",
              "      <th>contractor_id</th>\n",
              "      <th>disconnection_executed</th>\n",
              "      <th>collected</th>\n",
              "    </tr>\n",
              "  </thead>\n",
              "  <tbody>\n",
              "    <tr>\n",
              "      <th>0</th>\n",
              "      <td>0</td>\n",
              "      <td>1</td>\n",
              "      <td>13414</td>\n",
              "      <td>1</td>\n",
              "      <td>7</td>\n",
              "      <td>single-phase connection</td>\n",
              "      <td>disconnected</td>\n",
              "      <td>252.39</td>\n",
              "      <td>complete</td>\n",
              "      <td>662.62</td>\n",
              "      <td>4</td>\n",
              "      <td>2017-03-06</td>\n",
              "      <td>circuit_break</td>\n",
              "      <td>66.0</td>\n",
              "      <td>circuit_break</td>\n",
              "      <td>0.0</td>\n",
              "    </tr>\n",
              "    <tr>\n",
              "      <th>1</th>\n",
              "      <td>1</td>\n",
              "      <td>1</td>\n",
              "      <td>14071</td>\n",
              "      <td>1</td>\n",
              "      <td>1</td>\n",
              "      <td>single-phase connection</td>\n",
              "      <td>disconnected</td>\n",
              "      <td>0.00</td>\n",
              "      <td>NaN</td>\n",
              "      <td>1202.45</td>\n",
              "      <td>17</td>\n",
              "      <td>2017-03-31</td>\n",
              "      <td>circuit_break</td>\n",
              "      <td>73.0</td>\n",
              "      <td>circuit_break</td>\n",
              "      <td>0.0</td>\n",
              "    </tr>\n",
              "    <tr>\n",
              "      <th>2</th>\n",
              "      <td>2</td>\n",
              "      <td>1</td>\n",
              "      <td>12380</td>\n",
              "      <td>1</td>\n",
              "      <td>1</td>\n",
              "      <td>biphasic connection</td>\n",
              "      <td>disconnected</td>\n",
              "      <td>0.00</td>\n",
              "      <td>NaN</td>\n",
              "      <td>352.56</td>\n",
              "      <td>1</td>\n",
              "      <td>2017-03-20</td>\n",
              "      <td>circuit_break</td>\n",
              "      <td>20.0</td>\n",
              "      <td>circuit_break</td>\n",
              "      <td>0.0</td>\n",
              "    </tr>\n",
              "  </tbody>\n",
              "</table>\n",
              "</div>\n",
              "      <button class=\"colab-df-convert\" onclick=\"convertToInteractive('df-3e24fab5-a77e-4004-a8b0-6cf1de2e89ec')\"\n",
              "              title=\"Convert this dataframe to an interactive table.\"\n",
              "              style=\"display:none;\">\n",
              "        \n",
              "  <svg xmlns=\"http://www.w3.org/2000/svg\" height=\"24px\"viewBox=\"0 0 24 24\"\n",
              "       width=\"24px\">\n",
              "    <path d=\"M0 0h24v24H0V0z\" fill=\"none\"/>\n",
              "    <path d=\"M18.56 5.44l.94 2.06.94-2.06 2.06-.94-2.06-.94-.94-2.06-.94 2.06-2.06.94zm-11 1L8.5 8.5l.94-2.06 2.06-.94-2.06-.94L8.5 2.5l-.94 2.06-2.06.94zm10 10l.94 2.06.94-2.06 2.06-.94-2.06-.94-.94-2.06-.94 2.06-2.06.94z\"/><path d=\"M17.41 7.96l-1.37-1.37c-.4-.4-.92-.59-1.43-.59-.52 0-1.04.2-1.43.59L10.3 9.45l-7.72 7.72c-.78.78-.78 2.05 0 2.83L4 21.41c.39.39.9.59 1.41.59.51 0 1.02-.2 1.41-.59l7.78-7.78 2.81-2.81c.8-.78.8-2.07 0-2.86zM5.41 20L4 18.59l7.72-7.72 1.47 1.35L5.41 20z\"/>\n",
              "  </svg>\n",
              "      </button>\n",
              "      \n",
              "  <style>\n",
              "    .colab-df-container {\n",
              "      display:flex;\n",
              "      flex-wrap:wrap;\n",
              "      gap: 12px;\n",
              "    }\n",
              "\n",
              "    .colab-df-convert {\n",
              "      background-color: #E8F0FE;\n",
              "      border: none;\n",
              "      border-radius: 50%;\n",
              "      cursor: pointer;\n",
              "      display: none;\n",
              "      fill: #1967D2;\n",
              "      height: 32px;\n",
              "      padding: 0 0 0 0;\n",
              "      width: 32px;\n",
              "    }\n",
              "\n",
              "    .colab-df-convert:hover {\n",
              "      background-color: #E2EBFA;\n",
              "      box-shadow: 0px 1px 2px rgba(60, 64, 67, 0.3), 0px 1px 3px 1px rgba(60, 64, 67, 0.15);\n",
              "      fill: #174EA6;\n",
              "    }\n",
              "\n",
              "    [theme=dark] .colab-df-convert {\n",
              "      background-color: #3B4455;\n",
              "      fill: #D2E3FC;\n",
              "    }\n",
              "\n",
              "    [theme=dark] .colab-df-convert:hover {\n",
              "      background-color: #434B5C;\n",
              "      box-shadow: 0px 1px 3px 1px rgba(0, 0, 0, 0.15);\n",
              "      filter: drop-shadow(0px 1px 2px rgba(0, 0, 0, 0.3));\n",
              "      fill: #FFFFFF;\n",
              "    }\n",
              "  </style>\n",
              "\n",
              "      <script>\n",
              "        const buttonEl =\n",
              "          document.querySelector('#df-3e24fab5-a77e-4004-a8b0-6cf1de2e89ec button.colab-df-convert');\n",
              "        buttonEl.style.display =\n",
              "          google.colab.kernel.accessAllowed ? 'block' : 'none';\n",
              "\n",
              "        async function convertToInteractive(key) {\n",
              "          const element = document.querySelector('#df-3e24fab5-a77e-4004-a8b0-6cf1de2e89ec');\n",
              "          const dataTable =\n",
              "            await google.colab.kernel.invokeFunction('convertToInteractive',\n",
              "                                                     [key], {});\n",
              "          if (!dataTable) return;\n",
              "\n",
              "          const docLinkHtml = 'Like what you see? Visit the ' +\n",
              "            '<a target=\"_blank\" href=https://colab.research.google.com/notebooks/data_table.ipynb>data table notebook</a>'\n",
              "            + ' to learn more about interactive tables.';\n",
              "          element.innerHTML = '';\n",
              "          dataTable['output_type'] = 'display_data';\n",
              "          await google.colab.output.renderOutput(dataTable, element);\n",
              "          const docLink = document.createElement('div');\n",
              "          docLink.innerHTML = docLinkHtml;\n",
              "          element.appendChild(docLink);\n",
              "        }\n",
              "      </script>\n",
              "    </div>\n",
              "  </div>\n",
              "  "
            ]
          },
          "metadata": {},
          "execution_count": 5
        }
      ],
      "source": [
        "#Displaying the top 3 and bottom 3 rows of the dataset\n",
        "df.head(3)"
      ]
    },
    {
      "cell_type": "code",
      "execution_count": 6,
      "metadata": {
        "colab": {
          "base_uri": "https://localhost:8080/",
          "height": 0
        },
        "id": "JrG7MByRMtgL",
        "outputId": "4ec2bcde-7276-41a0-b7bf-1c5056a5570b"
      },
      "outputs": [
        {
          "output_type": "execute_result",
          "data": {
            "text/plain": [
              "        client_id  regional   site  client_class  client_subclass  \\\n",
              "618343     131401         1  14010             1                7   \n",
              "618344     462063         4  42491             1                1   \n",
              "618345     284385         4  44562             4                1   \n",
              "\n",
              "                connection_type connection_status  installment_value  \\\n",
              "618343  single-phase connection      disconnected             360.45   \n",
              "618344  single-phase connection      disconnected             665.38   \n",
              "618345  single-phase connection      disconnected             387.36   \n",
              "\n",
              "       installment_status  total_debt  total_bills disconnection_date  \\\n",
              "618343           complete      749.98            8         2018-02-28   \n",
              "618344           complete      760.03            9         2018-02-28   \n",
              "618345           complete      637.54            7         2018-02-01   \n",
              "\n",
              "       disconnection_requested  contractor_id disconnection_executed  \\\n",
              "618343                    pole           73.0          circuit_break   \n",
              "618344                    pole          272.0                   pole   \n",
              "618345           circuit_break          316.0          circuit_break   \n",
              "\n",
              "        collected  \n",
              "618343        0.0  \n",
              "618344        0.0  \n",
              "618345        0.0  "
            ],
            "text/html": [
              "\n",
              "  <div id=\"df-e3469cd1-66db-46b0-9fc2-77b246381074\">\n",
              "    <div class=\"colab-df-container\">\n",
              "      <div>\n",
              "<style scoped>\n",
              "    .dataframe tbody tr th:only-of-type {\n",
              "        vertical-align: middle;\n",
              "    }\n",
              "\n",
              "    .dataframe tbody tr th {\n",
              "        vertical-align: top;\n",
              "    }\n",
              "\n",
              "    .dataframe thead th {\n",
              "        text-align: right;\n",
              "    }\n",
              "</style>\n",
              "<table border=\"1\" class=\"dataframe\">\n",
              "  <thead>\n",
              "    <tr style=\"text-align: right;\">\n",
              "      <th></th>\n",
              "      <th>client_id</th>\n",
              "      <th>regional</th>\n",
              "      <th>site</th>\n",
              "      <th>client_class</th>\n",
              "      <th>client_subclass</th>\n",
              "      <th>connection_type</th>\n",
              "      <th>connection_status</th>\n",
              "      <th>installment_value</th>\n",
              "      <th>installment_status</th>\n",
              "      <th>total_debt</th>\n",
              "      <th>total_bills</th>\n",
              "      <th>disconnection_date</th>\n",
              "      <th>disconnection_requested</th>\n",
              "      <th>contractor_id</th>\n",
              "      <th>disconnection_executed</th>\n",
              "      <th>collected</th>\n",
              "    </tr>\n",
              "  </thead>\n",
              "  <tbody>\n",
              "    <tr>\n",
              "      <th>618343</th>\n",
              "      <td>131401</td>\n",
              "      <td>1</td>\n",
              "      <td>14010</td>\n",
              "      <td>1</td>\n",
              "      <td>7</td>\n",
              "      <td>single-phase connection</td>\n",
              "      <td>disconnected</td>\n",
              "      <td>360.45</td>\n",
              "      <td>complete</td>\n",
              "      <td>749.98</td>\n",
              "      <td>8</td>\n",
              "      <td>2018-02-28</td>\n",
              "      <td>pole</td>\n",
              "      <td>73.0</td>\n",
              "      <td>circuit_break</td>\n",
              "      <td>0.0</td>\n",
              "    </tr>\n",
              "    <tr>\n",
              "      <th>618344</th>\n",
              "      <td>462063</td>\n",
              "      <td>4</td>\n",
              "      <td>42491</td>\n",
              "      <td>1</td>\n",
              "      <td>1</td>\n",
              "      <td>single-phase connection</td>\n",
              "      <td>disconnected</td>\n",
              "      <td>665.38</td>\n",
              "      <td>complete</td>\n",
              "      <td>760.03</td>\n",
              "      <td>9</td>\n",
              "      <td>2018-02-28</td>\n",
              "      <td>pole</td>\n",
              "      <td>272.0</td>\n",
              "      <td>pole</td>\n",
              "      <td>0.0</td>\n",
              "    </tr>\n",
              "    <tr>\n",
              "      <th>618345</th>\n",
              "      <td>284385</td>\n",
              "      <td>4</td>\n",
              "      <td>44562</td>\n",
              "      <td>4</td>\n",
              "      <td>1</td>\n",
              "      <td>single-phase connection</td>\n",
              "      <td>disconnected</td>\n",
              "      <td>387.36</td>\n",
              "      <td>complete</td>\n",
              "      <td>637.54</td>\n",
              "      <td>7</td>\n",
              "      <td>2018-02-01</td>\n",
              "      <td>circuit_break</td>\n",
              "      <td>316.0</td>\n",
              "      <td>circuit_break</td>\n",
              "      <td>0.0</td>\n",
              "    </tr>\n",
              "  </tbody>\n",
              "</table>\n",
              "</div>\n",
              "      <button class=\"colab-df-convert\" onclick=\"convertToInteractive('df-e3469cd1-66db-46b0-9fc2-77b246381074')\"\n",
              "              title=\"Convert this dataframe to an interactive table.\"\n",
              "              style=\"display:none;\">\n",
              "        \n",
              "  <svg xmlns=\"http://www.w3.org/2000/svg\" height=\"24px\"viewBox=\"0 0 24 24\"\n",
              "       width=\"24px\">\n",
              "    <path d=\"M0 0h24v24H0V0z\" fill=\"none\"/>\n",
              "    <path d=\"M18.56 5.44l.94 2.06.94-2.06 2.06-.94-2.06-.94-.94-2.06-.94 2.06-2.06.94zm-11 1L8.5 8.5l.94-2.06 2.06-.94-2.06-.94L8.5 2.5l-.94 2.06-2.06.94zm10 10l.94 2.06.94-2.06 2.06-.94-2.06-.94-.94-2.06-.94 2.06-2.06.94z\"/><path d=\"M17.41 7.96l-1.37-1.37c-.4-.4-.92-.59-1.43-.59-.52 0-1.04.2-1.43.59L10.3 9.45l-7.72 7.72c-.78.78-.78 2.05 0 2.83L4 21.41c.39.39.9.59 1.41.59.51 0 1.02-.2 1.41-.59l7.78-7.78 2.81-2.81c.8-.78.8-2.07 0-2.86zM5.41 20L4 18.59l7.72-7.72 1.47 1.35L5.41 20z\"/>\n",
              "  </svg>\n",
              "      </button>\n",
              "      \n",
              "  <style>\n",
              "    .colab-df-container {\n",
              "      display:flex;\n",
              "      flex-wrap:wrap;\n",
              "      gap: 12px;\n",
              "    }\n",
              "\n",
              "    .colab-df-convert {\n",
              "      background-color: #E8F0FE;\n",
              "      border: none;\n",
              "      border-radius: 50%;\n",
              "      cursor: pointer;\n",
              "      display: none;\n",
              "      fill: #1967D2;\n",
              "      height: 32px;\n",
              "      padding: 0 0 0 0;\n",
              "      width: 32px;\n",
              "    }\n",
              "\n",
              "    .colab-df-convert:hover {\n",
              "      background-color: #E2EBFA;\n",
              "      box-shadow: 0px 1px 2px rgba(60, 64, 67, 0.3), 0px 1px 3px 1px rgba(60, 64, 67, 0.15);\n",
              "      fill: #174EA6;\n",
              "    }\n",
              "\n",
              "    [theme=dark] .colab-df-convert {\n",
              "      background-color: #3B4455;\n",
              "      fill: #D2E3FC;\n",
              "    }\n",
              "\n",
              "    [theme=dark] .colab-df-convert:hover {\n",
              "      background-color: #434B5C;\n",
              "      box-shadow: 0px 1px 3px 1px rgba(0, 0, 0, 0.15);\n",
              "      filter: drop-shadow(0px 1px 2px rgba(0, 0, 0, 0.3));\n",
              "      fill: #FFFFFF;\n",
              "    }\n",
              "  </style>\n",
              "\n",
              "      <script>\n",
              "        const buttonEl =\n",
              "          document.querySelector('#df-e3469cd1-66db-46b0-9fc2-77b246381074 button.colab-df-convert');\n",
              "        buttonEl.style.display =\n",
              "          google.colab.kernel.accessAllowed ? 'block' : 'none';\n",
              "\n",
              "        async function convertToInteractive(key) {\n",
              "          const element = document.querySelector('#df-e3469cd1-66db-46b0-9fc2-77b246381074');\n",
              "          const dataTable =\n",
              "            await google.colab.kernel.invokeFunction('convertToInteractive',\n",
              "                                                     [key], {});\n",
              "          if (!dataTable) return;\n",
              "\n",
              "          const docLinkHtml = 'Like what you see? Visit the ' +\n",
              "            '<a target=\"_blank\" href=https://colab.research.google.com/notebooks/data_table.ipynb>data table notebook</a>'\n",
              "            + ' to learn more about interactive tables.';\n",
              "          element.innerHTML = '';\n",
              "          dataTable['output_type'] = 'display_data';\n",
              "          await google.colab.output.renderOutput(dataTable, element);\n",
              "          const docLink = document.createElement('div');\n",
              "          docLink.innerHTML = docLinkHtml;\n",
              "          element.appendChild(docLink);\n",
              "        }\n",
              "      </script>\n",
              "    </div>\n",
              "  </div>\n",
              "  "
            ]
          },
          "metadata": {},
          "execution_count": 6
        }
      ],
      "source": [
        "df.tail(3)"
      ]
    },
    {
      "cell_type": "code",
      "execution_count": 7,
      "metadata": {
        "colab": {
          "base_uri": "https://localhost:8080/"
        },
        "id": "Us7EzLfoMUP-",
        "outputId": "98edad96-0606-4f60-8f2e-8ce1b1ae316a"
      },
      "outputs": [
        {
          "output_type": "stream",
          "name": "stdout",
          "text": [
            "<class 'pandas.core.frame.DataFrame'>\n",
            "RangeIndex: 618346 entries, 0 to 618345\n",
            "Data columns (total 16 columns):\n",
            " #   Column                   Non-Null Count   Dtype  \n",
            "---  ------                   --------------   -----  \n",
            " 0   client_id                618346 non-null  int64  \n",
            " 1   regional                 618346 non-null  int64  \n",
            " 2   site                     618346 non-null  int64  \n",
            " 3   client_class             618346 non-null  int64  \n",
            " 4   client_subclass          618346 non-null  int64  \n",
            " 5   connection_type          618346 non-null  object \n",
            " 6   connection_status        618346 non-null  object \n",
            " 7   installment_value        618346 non-null  float64\n",
            " 8   installment_status       247561 non-null  object \n",
            " 9   total_debt               618346 non-null  float64\n",
            " 10  total_bills              618346 non-null  int64  \n",
            " 11  disconnection_date       618346 non-null  object \n",
            " 12  disconnection_requested  618346 non-null  object \n",
            " 13  contractor_id            618346 non-null  float64\n",
            " 14  disconnection_executed   618346 non-null  object \n",
            " 15  collected                618346 non-null  float64\n",
            "dtypes: float64(4), int64(6), object(6)\n",
            "memory usage: 75.5+ MB\n"
          ]
        }
      ],
      "source": [
        "#Displaying information about the variables of the dataset\n",
        "df.info()"
      ]
    },
    {
      "cell_type": "code",
      "execution_count": 8,
      "metadata": {
        "colab": {
          "base_uri": "https://localhost:8080/",
          "height": 0
        },
        "id": "9pnsY0SNL5iZ",
        "outputId": "61cf4f19-eaa2-4942-9d9d-0af3e153e2f4"
      },
      "outputs": [
        {
          "output_type": "execute_result",
          "data": {
            "text/plain": [
              "          client_id       regional           site   client_class  \\\n",
              "count  6.183460e+05  618346.000000  618346.000000  618346.000000   \n",
              "mean   4.079352e+05       2.368648   25879.205620       1.155804   \n",
              "std    3.150273e+05       1.131973   11393.975564       0.572867   \n",
              "min    0.000000e+00       1.000000   11170.000000       1.000000   \n",
              "25%    1.412260e+05       1.000000   14071.000000       1.000000   \n",
              "50%    3.214895e+05       2.000000   21081.000000       1.000000   \n",
              "75%    6.306098e+05       4.000000   41572.000000       1.000000   \n",
              "max    1.100749e+06       4.000000   45471.000000       7.000000   \n",
              "\n",
              "       client_subclass  installment_value     total_debt    total_bills  \\\n",
              "count    618346.000000      618346.000000  618346.000000  618346.000000   \n",
              "mean          1.475134         228.524495     406.257256       2.477576   \n",
              "std           1.744205         778.999139    2221.629077       4.479946   \n",
              "min           1.000000           0.000000       5.920000       1.000000   \n",
              "25%           1.000000           0.000000      98.792500       1.000000   \n",
              "50%           1.000000           0.000000     170.850000       1.000000   \n",
              "75%           1.000000         248.120000     346.110000       2.000000   \n",
              "max          92.000000      173855.100000  419092.780000     167.000000   \n",
              "\n",
              "       contractor_id      collected  \n",
              "count  618346.000000  618346.000000  \n",
              "mean      159.409845       0.433602  \n",
              "std        81.248518       0.495572  \n",
              "min         6.000000       0.000000  \n",
              "25%        73.000000       0.000000  \n",
              "50%       156.000000       0.000000  \n",
              "75%       211.000000       1.000000  \n",
              "max       331.000000       1.000000  "
            ],
            "text/html": [
              "\n",
              "  <div id=\"df-3838e123-c94c-4ebb-bfc3-b8508e6e4d40\">\n",
              "    <div class=\"colab-df-container\">\n",
              "      <div>\n",
              "<style scoped>\n",
              "    .dataframe tbody tr th:only-of-type {\n",
              "        vertical-align: middle;\n",
              "    }\n",
              "\n",
              "    .dataframe tbody tr th {\n",
              "        vertical-align: top;\n",
              "    }\n",
              "\n",
              "    .dataframe thead th {\n",
              "        text-align: right;\n",
              "    }\n",
              "</style>\n",
              "<table border=\"1\" class=\"dataframe\">\n",
              "  <thead>\n",
              "    <tr style=\"text-align: right;\">\n",
              "      <th></th>\n",
              "      <th>client_id</th>\n",
              "      <th>regional</th>\n",
              "      <th>site</th>\n",
              "      <th>client_class</th>\n",
              "      <th>client_subclass</th>\n",
              "      <th>installment_value</th>\n",
              "      <th>total_debt</th>\n",
              "      <th>total_bills</th>\n",
              "      <th>contractor_id</th>\n",
              "      <th>collected</th>\n",
              "    </tr>\n",
              "  </thead>\n",
              "  <tbody>\n",
              "    <tr>\n",
              "      <th>count</th>\n",
              "      <td>6.183460e+05</td>\n",
              "      <td>618346.000000</td>\n",
              "      <td>618346.000000</td>\n",
              "      <td>618346.000000</td>\n",
              "      <td>618346.000000</td>\n",
              "      <td>618346.000000</td>\n",
              "      <td>618346.000000</td>\n",
              "      <td>618346.000000</td>\n",
              "      <td>618346.000000</td>\n",
              "      <td>618346.000000</td>\n",
              "    </tr>\n",
              "    <tr>\n",
              "      <th>mean</th>\n",
              "      <td>4.079352e+05</td>\n",
              "      <td>2.368648</td>\n",
              "      <td>25879.205620</td>\n",
              "      <td>1.155804</td>\n",
              "      <td>1.475134</td>\n",
              "      <td>228.524495</td>\n",
              "      <td>406.257256</td>\n",
              "      <td>2.477576</td>\n",
              "      <td>159.409845</td>\n",
              "      <td>0.433602</td>\n",
              "    </tr>\n",
              "    <tr>\n",
              "      <th>std</th>\n",
              "      <td>3.150273e+05</td>\n",
              "      <td>1.131973</td>\n",
              "      <td>11393.975564</td>\n",
              "      <td>0.572867</td>\n",
              "      <td>1.744205</td>\n",
              "      <td>778.999139</td>\n",
              "      <td>2221.629077</td>\n",
              "      <td>4.479946</td>\n",
              "      <td>81.248518</td>\n",
              "      <td>0.495572</td>\n",
              "    </tr>\n",
              "    <tr>\n",
              "      <th>min</th>\n",
              "      <td>0.000000e+00</td>\n",
              "      <td>1.000000</td>\n",
              "      <td>11170.000000</td>\n",
              "      <td>1.000000</td>\n",
              "      <td>1.000000</td>\n",
              "      <td>0.000000</td>\n",
              "      <td>5.920000</td>\n",
              "      <td>1.000000</td>\n",
              "      <td>6.000000</td>\n",
              "      <td>0.000000</td>\n",
              "    </tr>\n",
              "    <tr>\n",
              "      <th>25%</th>\n",
              "      <td>1.412260e+05</td>\n",
              "      <td>1.000000</td>\n",
              "      <td>14071.000000</td>\n",
              "      <td>1.000000</td>\n",
              "      <td>1.000000</td>\n",
              "      <td>0.000000</td>\n",
              "      <td>98.792500</td>\n",
              "      <td>1.000000</td>\n",
              "      <td>73.000000</td>\n",
              "      <td>0.000000</td>\n",
              "    </tr>\n",
              "    <tr>\n",
              "      <th>50%</th>\n",
              "      <td>3.214895e+05</td>\n",
              "      <td>2.000000</td>\n",
              "      <td>21081.000000</td>\n",
              "      <td>1.000000</td>\n",
              "      <td>1.000000</td>\n",
              "      <td>0.000000</td>\n",
              "      <td>170.850000</td>\n",
              "      <td>1.000000</td>\n",
              "      <td>156.000000</td>\n",
              "      <td>0.000000</td>\n",
              "    </tr>\n",
              "    <tr>\n",
              "      <th>75%</th>\n",
              "      <td>6.306098e+05</td>\n",
              "      <td>4.000000</td>\n",
              "      <td>41572.000000</td>\n",
              "      <td>1.000000</td>\n",
              "      <td>1.000000</td>\n",
              "      <td>248.120000</td>\n",
              "      <td>346.110000</td>\n",
              "      <td>2.000000</td>\n",
              "      <td>211.000000</td>\n",
              "      <td>1.000000</td>\n",
              "    </tr>\n",
              "    <tr>\n",
              "      <th>max</th>\n",
              "      <td>1.100749e+06</td>\n",
              "      <td>4.000000</td>\n",
              "      <td>45471.000000</td>\n",
              "      <td>7.000000</td>\n",
              "      <td>92.000000</td>\n",
              "      <td>173855.100000</td>\n",
              "      <td>419092.780000</td>\n",
              "      <td>167.000000</td>\n",
              "      <td>331.000000</td>\n",
              "      <td>1.000000</td>\n",
              "    </tr>\n",
              "  </tbody>\n",
              "</table>\n",
              "</div>\n",
              "      <button class=\"colab-df-convert\" onclick=\"convertToInteractive('df-3838e123-c94c-4ebb-bfc3-b8508e6e4d40')\"\n",
              "              title=\"Convert this dataframe to an interactive table.\"\n",
              "              style=\"display:none;\">\n",
              "        \n",
              "  <svg xmlns=\"http://www.w3.org/2000/svg\" height=\"24px\"viewBox=\"0 0 24 24\"\n",
              "       width=\"24px\">\n",
              "    <path d=\"M0 0h24v24H0V0z\" fill=\"none\"/>\n",
              "    <path d=\"M18.56 5.44l.94 2.06.94-2.06 2.06-.94-2.06-.94-.94-2.06-.94 2.06-2.06.94zm-11 1L8.5 8.5l.94-2.06 2.06-.94-2.06-.94L8.5 2.5l-.94 2.06-2.06.94zm10 10l.94 2.06.94-2.06 2.06-.94-2.06-.94-.94-2.06-.94 2.06-2.06.94z\"/><path d=\"M17.41 7.96l-1.37-1.37c-.4-.4-.92-.59-1.43-.59-.52 0-1.04.2-1.43.59L10.3 9.45l-7.72 7.72c-.78.78-.78 2.05 0 2.83L4 21.41c.39.39.9.59 1.41.59.51 0 1.02-.2 1.41-.59l7.78-7.78 2.81-2.81c.8-.78.8-2.07 0-2.86zM5.41 20L4 18.59l7.72-7.72 1.47 1.35L5.41 20z\"/>\n",
              "  </svg>\n",
              "      </button>\n",
              "      \n",
              "  <style>\n",
              "    .colab-df-container {\n",
              "      display:flex;\n",
              "      flex-wrap:wrap;\n",
              "      gap: 12px;\n",
              "    }\n",
              "\n",
              "    .colab-df-convert {\n",
              "      background-color: #E8F0FE;\n",
              "      border: none;\n",
              "      border-radius: 50%;\n",
              "      cursor: pointer;\n",
              "      display: none;\n",
              "      fill: #1967D2;\n",
              "      height: 32px;\n",
              "      padding: 0 0 0 0;\n",
              "      width: 32px;\n",
              "    }\n",
              "\n",
              "    .colab-df-convert:hover {\n",
              "      background-color: #E2EBFA;\n",
              "      box-shadow: 0px 1px 2px rgba(60, 64, 67, 0.3), 0px 1px 3px 1px rgba(60, 64, 67, 0.15);\n",
              "      fill: #174EA6;\n",
              "    }\n",
              "\n",
              "    [theme=dark] .colab-df-convert {\n",
              "      background-color: #3B4455;\n",
              "      fill: #D2E3FC;\n",
              "    }\n",
              "\n",
              "    [theme=dark] .colab-df-convert:hover {\n",
              "      background-color: #434B5C;\n",
              "      box-shadow: 0px 1px 3px 1px rgba(0, 0, 0, 0.15);\n",
              "      filter: drop-shadow(0px 1px 2px rgba(0, 0, 0, 0.3));\n",
              "      fill: #FFFFFF;\n",
              "    }\n",
              "  </style>\n",
              "\n",
              "      <script>\n",
              "        const buttonEl =\n",
              "          document.querySelector('#df-3838e123-c94c-4ebb-bfc3-b8508e6e4d40 button.colab-df-convert');\n",
              "        buttonEl.style.display =\n",
              "          google.colab.kernel.accessAllowed ? 'block' : 'none';\n",
              "\n",
              "        async function convertToInteractive(key) {\n",
              "          const element = document.querySelector('#df-3838e123-c94c-4ebb-bfc3-b8508e6e4d40');\n",
              "          const dataTable =\n",
              "            await google.colab.kernel.invokeFunction('convertToInteractive',\n",
              "                                                     [key], {});\n",
              "          if (!dataTable) return;\n",
              "\n",
              "          const docLinkHtml = 'Like what you see? Visit the ' +\n",
              "            '<a target=\"_blank\" href=https://colab.research.google.com/notebooks/data_table.ipynb>data table notebook</a>'\n",
              "            + ' to learn more about interactive tables.';\n",
              "          element.innerHTML = '';\n",
              "          dataTable['output_type'] = 'display_data';\n",
              "          await google.colab.output.renderOutput(dataTable, element);\n",
              "          const docLink = document.createElement('div');\n",
              "          docLink.innerHTML = docLinkHtml;\n",
              "          element.appendChild(docLink);\n",
              "        }\n",
              "      </script>\n",
              "    </div>\n",
              "  </div>\n",
              "  "
            ]
          },
          "metadata": {},
          "execution_count": 8
        }
      ],
      "source": [
        "#Displaying statistics about the numerical data\n",
        "df.describe()"
      ]
    },
    {
      "cell_type": "code",
      "execution_count": 9,
      "metadata": {
        "colab": {
          "base_uri": "https://localhost:8080/"
        },
        "id": "f41seV5YNBYM",
        "outputId": "4be8f0ee-3e35-4219-84ca-8eef57bc944b"
      },
      "outputs": [
        {
          "output_type": "execute_result",
          "data": {
            "text/plain": [
              "client_id                       0\n",
              "regional                        0\n",
              "site                            0\n",
              "client_class                    0\n",
              "client_subclass                 0\n",
              "connection_type                 0\n",
              "connection_status               0\n",
              "installment_value               0\n",
              "installment_status         370785\n",
              "total_debt                      0\n",
              "total_bills                     0\n",
              "disconnection_date              0\n",
              "disconnection_requested         0\n",
              "contractor_id                   0\n",
              "disconnection_executed          0\n",
              "collected                       0\n",
              "dtype: int64"
            ]
          },
          "metadata": {},
          "execution_count": 9
        }
      ],
      "source": [
        "#Checking if there are any missing values in the dataset\n",
        "df.isnull().sum()"
      ]
    },
    {
      "cell_type": "code",
      "execution_count": 10,
      "metadata": {
        "colab": {
          "base_uri": "https://localhost:8080/"
        },
        "id": "_Qnp9YtHaX_I",
        "outputId": "ec489a62-9ea0-4faf-f258-006e6caa9646"
      },
      "outputs": [
        {
          "output_type": "execute_result",
          "data": {
            "text/plain": [
              "complete    227701\n",
              "current      19860\n",
              "Name: installment_status, dtype: int64"
            ]
          },
          "metadata": {},
          "execution_count": 10
        }
      ],
      "source": [
        "#Considering what is written on the appendix, every missing value of the column installment_status refers to non applicable data\n",
        "df['installment_status'].value_counts()"
      ]
    },
    {
      "cell_type": "code",
      "execution_count": 11,
      "metadata": {
        "id": "wvVpleKVY-u5"
      },
      "outputs": [],
      "source": [
        "#Before plotting all the charts we'll do a little pre-processing to handle missing values, remove the columns that won't add anything to our model and\n",
        "#change the type of columns that refer to decimal values\n",
        "\n",
        "#Dealing with the missing value of the installment_status columns\n",
        "df['installment_status'] = df['installment_status'].fillna('not_applicable')\n",
        "\n",
        "#Removing the columns client_id and contractor_id because they won't add any information to our model\n",
        "df.drop(['client_id','contractor_id'], axis='columns', inplace=True)\n",
        "\n",
        "#Changing the type of columns of decimal values to be able to manipulate these values further on\n",
        "df[[\"installment_value\", \"total_debt\"]] = df[[\"installment_value\", \"total_debt\"]].apply(pd.to_numeric)"
      ]
    },
    {
      "cell_type": "code",
      "execution_count": 12,
      "metadata": {
        "colab": {
          "base_uri": "https://localhost:8080/",
          "height": 0
        },
        "id": "7Z7iHsFXb320",
        "outputId": "720f4806-2cd7-45f1-9e03-1e502b41f4db"
      },
      "outputs": [
        {
          "output_type": "execute_result",
          "data": {
            "text/plain": [
              "   regional   site  client_class  client_subclass          connection_type  \\\n",
              "0         1  13414             1                7  single-phase connection   \n",
              "\n",
              "  connection_status  installment_value installment_status  total_debt  \\\n",
              "0      disconnected             252.39           complete      662.62   \n",
              "\n",
              "   total_bills disconnection_date disconnection_requested  \\\n",
              "0            4         2017-03-06           circuit_break   \n",
              "\n",
              "  disconnection_executed  collected  \n",
              "0          circuit_break        0.0  "
            ],
            "text/html": [
              "\n",
              "  <div id=\"df-2fedd122-7f1b-4843-a65e-6f8e96c0eed2\">\n",
              "    <div class=\"colab-df-container\">\n",
              "      <div>\n",
              "<style scoped>\n",
              "    .dataframe tbody tr th:only-of-type {\n",
              "        vertical-align: middle;\n",
              "    }\n",
              "\n",
              "    .dataframe tbody tr th {\n",
              "        vertical-align: top;\n",
              "    }\n",
              "\n",
              "    .dataframe thead th {\n",
              "        text-align: right;\n",
              "    }\n",
              "</style>\n",
              "<table border=\"1\" class=\"dataframe\">\n",
              "  <thead>\n",
              "    <tr style=\"text-align: right;\">\n",
              "      <th></th>\n",
              "      <th>regional</th>\n",
              "      <th>site</th>\n",
              "      <th>client_class</th>\n",
              "      <th>client_subclass</th>\n",
              "      <th>connection_type</th>\n",
              "      <th>connection_status</th>\n",
              "      <th>installment_value</th>\n",
              "      <th>installment_status</th>\n",
              "      <th>total_debt</th>\n",
              "      <th>total_bills</th>\n",
              "      <th>disconnection_date</th>\n",
              "      <th>disconnection_requested</th>\n",
              "      <th>disconnection_executed</th>\n",
              "      <th>collected</th>\n",
              "    </tr>\n",
              "  </thead>\n",
              "  <tbody>\n",
              "    <tr>\n",
              "      <th>0</th>\n",
              "      <td>1</td>\n",
              "      <td>13414</td>\n",
              "      <td>1</td>\n",
              "      <td>7</td>\n",
              "      <td>single-phase connection</td>\n",
              "      <td>disconnected</td>\n",
              "      <td>252.39</td>\n",
              "      <td>complete</td>\n",
              "      <td>662.62</td>\n",
              "      <td>4</td>\n",
              "      <td>2017-03-06</td>\n",
              "      <td>circuit_break</td>\n",
              "      <td>circuit_break</td>\n",
              "      <td>0.0</td>\n",
              "    </tr>\n",
              "  </tbody>\n",
              "</table>\n",
              "</div>\n",
              "      <button class=\"colab-df-convert\" onclick=\"convertToInteractive('df-2fedd122-7f1b-4843-a65e-6f8e96c0eed2')\"\n",
              "              title=\"Convert this dataframe to an interactive table.\"\n",
              "              style=\"display:none;\">\n",
              "        \n",
              "  <svg xmlns=\"http://www.w3.org/2000/svg\" height=\"24px\"viewBox=\"0 0 24 24\"\n",
              "       width=\"24px\">\n",
              "    <path d=\"M0 0h24v24H0V0z\" fill=\"none\"/>\n",
              "    <path d=\"M18.56 5.44l.94 2.06.94-2.06 2.06-.94-2.06-.94-.94-2.06-.94 2.06-2.06.94zm-11 1L8.5 8.5l.94-2.06 2.06-.94-2.06-.94L8.5 2.5l-.94 2.06-2.06.94zm10 10l.94 2.06.94-2.06 2.06-.94-2.06-.94-.94-2.06-.94 2.06-2.06.94z\"/><path d=\"M17.41 7.96l-1.37-1.37c-.4-.4-.92-.59-1.43-.59-.52 0-1.04.2-1.43.59L10.3 9.45l-7.72 7.72c-.78.78-.78 2.05 0 2.83L4 21.41c.39.39.9.59 1.41.59.51 0 1.02-.2 1.41-.59l7.78-7.78 2.81-2.81c.8-.78.8-2.07 0-2.86zM5.41 20L4 18.59l7.72-7.72 1.47 1.35L5.41 20z\"/>\n",
              "  </svg>\n",
              "      </button>\n",
              "      \n",
              "  <style>\n",
              "    .colab-df-container {\n",
              "      display:flex;\n",
              "      flex-wrap:wrap;\n",
              "      gap: 12px;\n",
              "    }\n",
              "\n",
              "    .colab-df-convert {\n",
              "      background-color: #E8F0FE;\n",
              "      border: none;\n",
              "      border-radius: 50%;\n",
              "      cursor: pointer;\n",
              "      display: none;\n",
              "      fill: #1967D2;\n",
              "      height: 32px;\n",
              "      padding: 0 0 0 0;\n",
              "      width: 32px;\n",
              "    }\n",
              "\n",
              "    .colab-df-convert:hover {\n",
              "      background-color: #E2EBFA;\n",
              "      box-shadow: 0px 1px 2px rgba(60, 64, 67, 0.3), 0px 1px 3px 1px rgba(60, 64, 67, 0.15);\n",
              "      fill: #174EA6;\n",
              "    }\n",
              "\n",
              "    [theme=dark] .colab-df-convert {\n",
              "      background-color: #3B4455;\n",
              "      fill: #D2E3FC;\n",
              "    }\n",
              "\n",
              "    [theme=dark] .colab-df-convert:hover {\n",
              "      background-color: #434B5C;\n",
              "      box-shadow: 0px 1px 3px 1px rgba(0, 0, 0, 0.15);\n",
              "      filter: drop-shadow(0px 1px 2px rgba(0, 0, 0, 0.3));\n",
              "      fill: #FFFFFF;\n",
              "    }\n",
              "  </style>\n",
              "\n",
              "      <script>\n",
              "        const buttonEl =\n",
              "          document.querySelector('#df-2fedd122-7f1b-4843-a65e-6f8e96c0eed2 button.colab-df-convert');\n",
              "        buttonEl.style.display =\n",
              "          google.colab.kernel.accessAllowed ? 'block' : 'none';\n",
              "\n",
              "        async function convertToInteractive(key) {\n",
              "          const element = document.querySelector('#df-2fedd122-7f1b-4843-a65e-6f8e96c0eed2');\n",
              "          const dataTable =\n",
              "            await google.colab.kernel.invokeFunction('convertToInteractive',\n",
              "                                                     [key], {});\n",
              "          if (!dataTable) return;\n",
              "\n",
              "          const docLinkHtml = 'Like what you see? Visit the ' +\n",
              "            '<a target=\"_blank\" href=https://colab.research.google.com/notebooks/data_table.ipynb>data table notebook</a>'\n",
              "            + ' to learn more about interactive tables.';\n",
              "          element.innerHTML = '';\n",
              "          dataTable['output_type'] = 'display_data';\n",
              "          await google.colab.output.renderOutput(dataTable, element);\n",
              "          const docLink = document.createElement('div');\n",
              "          docLink.innerHTML = docLinkHtml;\n",
              "          element.appendChild(docLink);\n",
              "        }\n",
              "      </script>\n",
              "    </div>\n",
              "  </div>\n",
              "  "
            ]
          },
          "metadata": {},
          "execution_count": 12
        }
      ],
      "source": [
        "#checking if the code above worked\n",
        "df.head(1)"
      ]
    },
    {
      "cell_type": "code",
      "execution_count": 13,
      "metadata": {
        "colab": {
          "base_uri": "https://localhost:8080/"
        },
        "id": "y20DHWh3b85W",
        "outputId": "83646bbf-5c8b-4374-e61d-dfa5ae8bf49c"
      },
      "outputs": [
        {
          "output_type": "execute_result",
          "data": {
            "text/plain": [
              "not_applicable    370785\n",
              "complete          227701\n",
              "current            19860\n",
              "Name: installment_status, dtype: int64"
            ]
          },
          "metadata": {},
          "execution_count": 13
        }
      ],
      "source": [
        "df['installment_status'].value_counts()"
      ]
    },
    {
      "cell_type": "code",
      "execution_count": 14,
      "metadata": {
        "colab": {
          "base_uri": "https://localhost:8080/",
          "height": 0
        },
        "id": "UZPieMdo36vp",
        "outputId": "34efaa58-372b-4203-bc56-6135dca72d8d"
      },
      "outputs": [
        {
          "output_type": "execute_result",
          "data": {
            "text/plain": [
              "   regional   site  client_class  client_subclass          connection_type  \\\n",
              "0         1  13414             1                7  single-phase connection   \n",
              "1         1  14071             1                1  single-phase connection   \n",
              "2         1  12380             1                1      biphasic connection   \n",
              "\n",
              "  connection_status  installment_value installment_status  total_debt  \\\n",
              "0      disconnected             252.39           complete      662.62   \n",
              "1      disconnected               0.00     not_applicable     1202.45   \n",
              "2      disconnected               0.00     not_applicable      352.56   \n",
              "\n",
              "   total_bills disconnection_date disconnection_requested  \\\n",
              "0            4         2017-03-06           circuit_break   \n",
              "1           17         2017-03-31           circuit_break   \n",
              "2            1         2017-03-20           circuit_break   \n",
              "\n",
              "  disconnection_executed  collected  disconnection_date_year  \\\n",
              "0          circuit_break        0.0                     2017   \n",
              "1          circuit_break        0.0                     2017   \n",
              "2          circuit_break        0.0                     2017   \n",
              "\n",
              "   disconnection_date_month  \n",
              "0                         3  \n",
              "1                         3  \n",
              "2                         3  "
            ],
            "text/html": [
              "\n",
              "  <div id=\"df-1122ed40-c7e4-4207-ac1d-b2c0bae9ecb5\">\n",
              "    <div class=\"colab-df-container\">\n",
              "      <div>\n",
              "<style scoped>\n",
              "    .dataframe tbody tr th:only-of-type {\n",
              "        vertical-align: middle;\n",
              "    }\n",
              "\n",
              "    .dataframe tbody tr th {\n",
              "        vertical-align: top;\n",
              "    }\n",
              "\n",
              "    .dataframe thead th {\n",
              "        text-align: right;\n",
              "    }\n",
              "</style>\n",
              "<table border=\"1\" class=\"dataframe\">\n",
              "  <thead>\n",
              "    <tr style=\"text-align: right;\">\n",
              "      <th></th>\n",
              "      <th>regional</th>\n",
              "      <th>site</th>\n",
              "      <th>client_class</th>\n",
              "      <th>client_subclass</th>\n",
              "      <th>connection_type</th>\n",
              "      <th>connection_status</th>\n",
              "      <th>installment_value</th>\n",
              "      <th>installment_status</th>\n",
              "      <th>total_debt</th>\n",
              "      <th>total_bills</th>\n",
              "      <th>disconnection_date</th>\n",
              "      <th>disconnection_requested</th>\n",
              "      <th>disconnection_executed</th>\n",
              "      <th>collected</th>\n",
              "      <th>disconnection_date_year</th>\n",
              "      <th>disconnection_date_month</th>\n",
              "    </tr>\n",
              "  </thead>\n",
              "  <tbody>\n",
              "    <tr>\n",
              "      <th>0</th>\n",
              "      <td>1</td>\n",
              "      <td>13414</td>\n",
              "      <td>1</td>\n",
              "      <td>7</td>\n",
              "      <td>single-phase connection</td>\n",
              "      <td>disconnected</td>\n",
              "      <td>252.39</td>\n",
              "      <td>complete</td>\n",
              "      <td>662.62</td>\n",
              "      <td>4</td>\n",
              "      <td>2017-03-06</td>\n",
              "      <td>circuit_break</td>\n",
              "      <td>circuit_break</td>\n",
              "      <td>0.0</td>\n",
              "      <td>2017</td>\n",
              "      <td>3</td>\n",
              "    </tr>\n",
              "    <tr>\n",
              "      <th>1</th>\n",
              "      <td>1</td>\n",
              "      <td>14071</td>\n",
              "      <td>1</td>\n",
              "      <td>1</td>\n",
              "      <td>single-phase connection</td>\n",
              "      <td>disconnected</td>\n",
              "      <td>0.00</td>\n",
              "      <td>not_applicable</td>\n",
              "      <td>1202.45</td>\n",
              "      <td>17</td>\n",
              "      <td>2017-03-31</td>\n",
              "      <td>circuit_break</td>\n",
              "      <td>circuit_break</td>\n",
              "      <td>0.0</td>\n",
              "      <td>2017</td>\n",
              "      <td>3</td>\n",
              "    </tr>\n",
              "    <tr>\n",
              "      <th>2</th>\n",
              "      <td>1</td>\n",
              "      <td>12380</td>\n",
              "      <td>1</td>\n",
              "      <td>1</td>\n",
              "      <td>biphasic connection</td>\n",
              "      <td>disconnected</td>\n",
              "      <td>0.00</td>\n",
              "      <td>not_applicable</td>\n",
              "      <td>352.56</td>\n",
              "      <td>1</td>\n",
              "      <td>2017-03-20</td>\n",
              "      <td>circuit_break</td>\n",
              "      <td>circuit_break</td>\n",
              "      <td>0.0</td>\n",
              "      <td>2017</td>\n",
              "      <td>3</td>\n",
              "    </tr>\n",
              "  </tbody>\n",
              "</table>\n",
              "</div>\n",
              "      <button class=\"colab-df-convert\" onclick=\"convertToInteractive('df-1122ed40-c7e4-4207-ac1d-b2c0bae9ecb5')\"\n",
              "              title=\"Convert this dataframe to an interactive table.\"\n",
              "              style=\"display:none;\">\n",
              "        \n",
              "  <svg xmlns=\"http://www.w3.org/2000/svg\" height=\"24px\"viewBox=\"0 0 24 24\"\n",
              "       width=\"24px\">\n",
              "    <path d=\"M0 0h24v24H0V0z\" fill=\"none\"/>\n",
              "    <path d=\"M18.56 5.44l.94 2.06.94-2.06 2.06-.94-2.06-.94-.94-2.06-.94 2.06-2.06.94zm-11 1L8.5 8.5l.94-2.06 2.06-.94-2.06-.94L8.5 2.5l-.94 2.06-2.06.94zm10 10l.94 2.06.94-2.06 2.06-.94-2.06-.94-.94-2.06-.94 2.06-2.06.94z\"/><path d=\"M17.41 7.96l-1.37-1.37c-.4-.4-.92-.59-1.43-.59-.52 0-1.04.2-1.43.59L10.3 9.45l-7.72 7.72c-.78.78-.78 2.05 0 2.83L4 21.41c.39.39.9.59 1.41.59.51 0 1.02-.2 1.41-.59l7.78-7.78 2.81-2.81c.8-.78.8-2.07 0-2.86zM5.41 20L4 18.59l7.72-7.72 1.47 1.35L5.41 20z\"/>\n",
              "  </svg>\n",
              "      </button>\n",
              "      \n",
              "  <style>\n",
              "    .colab-df-container {\n",
              "      display:flex;\n",
              "      flex-wrap:wrap;\n",
              "      gap: 12px;\n",
              "    }\n",
              "\n",
              "    .colab-df-convert {\n",
              "      background-color: #E8F0FE;\n",
              "      border: none;\n",
              "      border-radius: 50%;\n",
              "      cursor: pointer;\n",
              "      display: none;\n",
              "      fill: #1967D2;\n",
              "      height: 32px;\n",
              "      padding: 0 0 0 0;\n",
              "      width: 32px;\n",
              "    }\n",
              "\n",
              "    .colab-df-convert:hover {\n",
              "      background-color: #E2EBFA;\n",
              "      box-shadow: 0px 1px 2px rgba(60, 64, 67, 0.3), 0px 1px 3px 1px rgba(60, 64, 67, 0.15);\n",
              "      fill: #174EA6;\n",
              "    }\n",
              "\n",
              "    [theme=dark] .colab-df-convert {\n",
              "      background-color: #3B4455;\n",
              "      fill: #D2E3FC;\n",
              "    }\n",
              "\n",
              "    [theme=dark] .colab-df-convert:hover {\n",
              "      background-color: #434B5C;\n",
              "      box-shadow: 0px 1px 3px 1px rgba(0, 0, 0, 0.15);\n",
              "      filter: drop-shadow(0px 1px 2px rgba(0, 0, 0, 0.3));\n",
              "      fill: #FFFFFF;\n",
              "    }\n",
              "  </style>\n",
              "\n",
              "      <script>\n",
              "        const buttonEl =\n",
              "          document.querySelector('#df-1122ed40-c7e4-4207-ac1d-b2c0bae9ecb5 button.colab-df-convert');\n",
              "        buttonEl.style.display =\n",
              "          google.colab.kernel.accessAllowed ? 'block' : 'none';\n",
              "\n",
              "        async function convertToInteractive(key) {\n",
              "          const element = document.querySelector('#df-1122ed40-c7e4-4207-ac1d-b2c0bae9ecb5');\n",
              "          const dataTable =\n",
              "            await google.colab.kernel.invokeFunction('convertToInteractive',\n",
              "                                                     [key], {});\n",
              "          if (!dataTable) return;\n",
              "\n",
              "          const docLinkHtml = 'Like what you see? Visit the ' +\n",
              "            '<a target=\"_blank\" href=https://colab.research.google.com/notebooks/data_table.ipynb>data table notebook</a>'\n",
              "            + ' to learn more about interactive tables.';\n",
              "          element.innerHTML = '';\n",
              "          dataTable['output_type'] = 'display_data';\n",
              "          await google.colab.output.renderOutput(dataTable, element);\n",
              "          const docLink = document.createElement('div');\n",
              "          docLink.innerHTML = docLinkHtml;\n",
              "          element.appendChild(docLink);\n",
              "        }\n",
              "      </script>\n",
              "    </div>\n",
              "  </div>\n",
              "  "
            ]
          },
          "metadata": {},
          "execution_count": 14
        }
      ],
      "source": [
        "#creating a new dataframe with the month and year of the discconection_date to check for seasonalities\n",
        "df2 = df\n",
        "df2['disconnection_date_year'] = pd.DatetimeIndex(df2['disconnection_date']).year\n",
        "df2['disconnection_date_month'] = pd.DatetimeIndex(df2['disconnection_date']).month\n",
        "df2.head(3)"
      ]
    },
    {
      "cell_type": "code",
      "execution_count": 15,
      "metadata": {
        "id": "jizVT5mcB_Nq"
      },
      "outputs": [],
      "source": [
        "#concatenating columns month and year of disconnection\n",
        "df2[\"disconnection_period\"] =  df2[\"disconnection_date_month\"].astype(str) + '/' + df2[\"disconnection_date_year\"].astype(str)"
      ]
    },
    {
      "cell_type": "code",
      "execution_count": 16,
      "metadata": {
        "colab": {
          "base_uri": "https://localhost:8080/"
        },
        "id": "iC_Iad7GCwQC",
        "outputId": "c02a870b-f950-4d84-891a-6155687cfd49"
      },
      "outputs": [
        {
          "output_type": "execute_result",
          "data": {
            "text/plain": [
              "3/2017     62738\n",
              "5/2017     59903\n",
              "12/2017    57639\n",
              "6/2017     54307\n",
              "4/2017     54067\n",
              "11/2017    52111\n",
              "8/2017     48385\n",
              "1/2018     48292\n",
              "2/2018     46112\n",
              "9/2017     45202\n",
              "7/2017     44992\n",
              "10/2017    44598\n",
              "Name: disconnection_period, dtype: int64"
            ]
          },
          "metadata": {},
          "execution_count": 16
        }
      ],
      "source": [
        "df2['disconnection_period'].value_counts()"
      ]
    },
    {
      "cell_type": "code",
      "execution_count": 17,
      "metadata": {
        "id": "MtxJTT29DQTy"
      },
      "outputs": [],
      "source": [
        "#dropping all the columns of disconnection except for disconnnection_period\n",
        "df2.drop(['disconnection_date', 'disconnection_date_year', 'disconnection_date_month'], inplace=True, axis=1)"
      ]
    },
    {
      "cell_type": "code",
      "execution_count": 18,
      "metadata": {
        "colab": {
          "base_uri": "https://localhost:8080/",
          "height": 0
        },
        "id": "JjaEScnKEFfX",
        "outputId": "914b6e5a-a6fb-4718-deb6-c91947e54a97"
      },
      "outputs": [
        {
          "output_type": "execute_result",
          "data": {
            "text/plain": [
              "   regional   site  client_class  client_subclass          connection_type  \\\n",
              "0         1  13414             1                7  single-phase connection   \n",
              "1         1  14071             1                1  single-phase connection   \n",
              "2         1  12380             1                1      biphasic connection   \n",
              "\n",
              "  connection_status  installment_value installment_status  total_debt  \\\n",
              "0      disconnected             252.39           complete      662.62   \n",
              "1      disconnected               0.00     not_applicable     1202.45   \n",
              "2      disconnected               0.00     not_applicable      352.56   \n",
              "\n",
              "   total_bills disconnection_requested disconnection_executed  collected  \\\n",
              "0            4           circuit_break          circuit_break        0.0   \n",
              "1           17           circuit_break          circuit_break        0.0   \n",
              "2            1           circuit_break          circuit_break        0.0   \n",
              "\n",
              "  disconnection_period  \n",
              "0               3/2017  \n",
              "1               3/2017  \n",
              "2               3/2017  "
            ],
            "text/html": [
              "\n",
              "  <div id=\"df-728f28ae-0ca8-4348-9bb1-63fdb0ba11dc\">\n",
              "    <div class=\"colab-df-container\">\n",
              "      <div>\n",
              "<style scoped>\n",
              "    .dataframe tbody tr th:only-of-type {\n",
              "        vertical-align: middle;\n",
              "    }\n",
              "\n",
              "    .dataframe tbody tr th {\n",
              "        vertical-align: top;\n",
              "    }\n",
              "\n",
              "    .dataframe thead th {\n",
              "        text-align: right;\n",
              "    }\n",
              "</style>\n",
              "<table border=\"1\" class=\"dataframe\">\n",
              "  <thead>\n",
              "    <tr style=\"text-align: right;\">\n",
              "      <th></th>\n",
              "      <th>regional</th>\n",
              "      <th>site</th>\n",
              "      <th>client_class</th>\n",
              "      <th>client_subclass</th>\n",
              "      <th>connection_type</th>\n",
              "      <th>connection_status</th>\n",
              "      <th>installment_value</th>\n",
              "      <th>installment_status</th>\n",
              "      <th>total_debt</th>\n",
              "      <th>total_bills</th>\n",
              "      <th>disconnection_requested</th>\n",
              "      <th>disconnection_executed</th>\n",
              "      <th>collected</th>\n",
              "      <th>disconnection_period</th>\n",
              "    </tr>\n",
              "  </thead>\n",
              "  <tbody>\n",
              "    <tr>\n",
              "      <th>0</th>\n",
              "      <td>1</td>\n",
              "      <td>13414</td>\n",
              "      <td>1</td>\n",
              "      <td>7</td>\n",
              "      <td>single-phase connection</td>\n",
              "      <td>disconnected</td>\n",
              "      <td>252.39</td>\n",
              "      <td>complete</td>\n",
              "      <td>662.62</td>\n",
              "      <td>4</td>\n",
              "      <td>circuit_break</td>\n",
              "      <td>circuit_break</td>\n",
              "      <td>0.0</td>\n",
              "      <td>3/2017</td>\n",
              "    </tr>\n",
              "    <tr>\n",
              "      <th>1</th>\n",
              "      <td>1</td>\n",
              "      <td>14071</td>\n",
              "      <td>1</td>\n",
              "      <td>1</td>\n",
              "      <td>single-phase connection</td>\n",
              "      <td>disconnected</td>\n",
              "      <td>0.00</td>\n",
              "      <td>not_applicable</td>\n",
              "      <td>1202.45</td>\n",
              "      <td>17</td>\n",
              "      <td>circuit_break</td>\n",
              "      <td>circuit_break</td>\n",
              "      <td>0.0</td>\n",
              "      <td>3/2017</td>\n",
              "    </tr>\n",
              "    <tr>\n",
              "      <th>2</th>\n",
              "      <td>1</td>\n",
              "      <td>12380</td>\n",
              "      <td>1</td>\n",
              "      <td>1</td>\n",
              "      <td>biphasic connection</td>\n",
              "      <td>disconnected</td>\n",
              "      <td>0.00</td>\n",
              "      <td>not_applicable</td>\n",
              "      <td>352.56</td>\n",
              "      <td>1</td>\n",
              "      <td>circuit_break</td>\n",
              "      <td>circuit_break</td>\n",
              "      <td>0.0</td>\n",
              "      <td>3/2017</td>\n",
              "    </tr>\n",
              "  </tbody>\n",
              "</table>\n",
              "</div>\n",
              "      <button class=\"colab-df-convert\" onclick=\"convertToInteractive('df-728f28ae-0ca8-4348-9bb1-63fdb0ba11dc')\"\n",
              "              title=\"Convert this dataframe to an interactive table.\"\n",
              "              style=\"display:none;\">\n",
              "        \n",
              "  <svg xmlns=\"http://www.w3.org/2000/svg\" height=\"24px\"viewBox=\"0 0 24 24\"\n",
              "       width=\"24px\">\n",
              "    <path d=\"M0 0h24v24H0V0z\" fill=\"none\"/>\n",
              "    <path d=\"M18.56 5.44l.94 2.06.94-2.06 2.06-.94-2.06-.94-.94-2.06-.94 2.06-2.06.94zm-11 1L8.5 8.5l.94-2.06 2.06-.94-2.06-.94L8.5 2.5l-.94 2.06-2.06.94zm10 10l.94 2.06.94-2.06 2.06-.94-2.06-.94-.94-2.06-.94 2.06-2.06.94z\"/><path d=\"M17.41 7.96l-1.37-1.37c-.4-.4-.92-.59-1.43-.59-.52 0-1.04.2-1.43.59L10.3 9.45l-7.72 7.72c-.78.78-.78 2.05 0 2.83L4 21.41c.39.39.9.59 1.41.59.51 0 1.02-.2 1.41-.59l7.78-7.78 2.81-2.81c.8-.78.8-2.07 0-2.86zM5.41 20L4 18.59l7.72-7.72 1.47 1.35L5.41 20z\"/>\n",
              "  </svg>\n",
              "      </button>\n",
              "      \n",
              "  <style>\n",
              "    .colab-df-container {\n",
              "      display:flex;\n",
              "      flex-wrap:wrap;\n",
              "      gap: 12px;\n",
              "    }\n",
              "\n",
              "    .colab-df-convert {\n",
              "      background-color: #E8F0FE;\n",
              "      border: none;\n",
              "      border-radius: 50%;\n",
              "      cursor: pointer;\n",
              "      display: none;\n",
              "      fill: #1967D2;\n",
              "      height: 32px;\n",
              "      padding: 0 0 0 0;\n",
              "      width: 32px;\n",
              "    }\n",
              "\n",
              "    .colab-df-convert:hover {\n",
              "      background-color: #E2EBFA;\n",
              "      box-shadow: 0px 1px 2px rgba(60, 64, 67, 0.3), 0px 1px 3px 1px rgba(60, 64, 67, 0.15);\n",
              "      fill: #174EA6;\n",
              "    }\n",
              "\n",
              "    [theme=dark] .colab-df-convert {\n",
              "      background-color: #3B4455;\n",
              "      fill: #D2E3FC;\n",
              "    }\n",
              "\n",
              "    [theme=dark] .colab-df-convert:hover {\n",
              "      background-color: #434B5C;\n",
              "      box-shadow: 0px 1px 3px 1px rgba(0, 0, 0, 0.15);\n",
              "      filter: drop-shadow(0px 1px 2px rgba(0, 0, 0, 0.3));\n",
              "      fill: #FFFFFF;\n",
              "    }\n",
              "  </style>\n",
              "\n",
              "      <script>\n",
              "        const buttonEl =\n",
              "          document.querySelector('#df-728f28ae-0ca8-4348-9bb1-63fdb0ba11dc button.colab-df-convert');\n",
              "        buttonEl.style.display =\n",
              "          google.colab.kernel.accessAllowed ? 'block' : 'none';\n",
              "\n",
              "        async function convertToInteractive(key) {\n",
              "          const element = document.querySelector('#df-728f28ae-0ca8-4348-9bb1-63fdb0ba11dc');\n",
              "          const dataTable =\n",
              "            await google.colab.kernel.invokeFunction('convertToInteractive',\n",
              "                                                     [key], {});\n",
              "          if (!dataTable) return;\n",
              "\n",
              "          const docLinkHtml = 'Like what you see? Visit the ' +\n",
              "            '<a target=\"_blank\" href=https://colab.research.google.com/notebooks/data_table.ipynb>data table notebook</a>'\n",
              "            + ' to learn more about interactive tables.';\n",
              "          element.innerHTML = '';\n",
              "          dataTable['output_type'] = 'display_data';\n",
              "          await google.colab.output.renderOutput(dataTable, element);\n",
              "          const docLink = document.createElement('div');\n",
              "          docLink.innerHTML = docLinkHtml;\n",
              "          element.appendChild(docLink);\n",
              "        }\n",
              "      </script>\n",
              "    </div>\n",
              "  </div>\n",
              "  "
            ]
          },
          "metadata": {},
          "execution_count": 18
        }
      ],
      "source": [
        "df2.head(3)"
      ]
    },
    {
      "cell_type": "code",
      "execution_count": 19,
      "metadata": {
        "colab": {
          "base_uri": "https://localhost:8080/"
        },
        "id": "K6DvMOrDFG9J",
        "outputId": "0d02e909-b6b6-43b6-da40-cfc6322507eb"
      },
      "outputs": [
        {
          "output_type": "execute_result",
          "data": {
            "text/plain": [
              "['regional',\n",
              " 'site',\n",
              " 'client_class',\n",
              " 'client_subclass',\n",
              " 'connection_type',\n",
              " 'connection_status',\n",
              " 'installment_value',\n",
              " 'installment_status',\n",
              " 'total_debt',\n",
              " 'total_bills',\n",
              " 'disconnection_requested',\n",
              " 'disconnection_executed',\n",
              " 'collected',\n",
              " 'disconnection_period']"
            ]
          },
          "metadata": {},
          "execution_count": 19
        }
      ],
      "source": [
        "#Getting a  list to change the order of the columns\n",
        "list(df2.columns.values)"
      ]
    },
    {
      "cell_type": "code",
      "execution_count": 20,
      "metadata": {
        "id": "_kwkfKASFf1N"
      },
      "outputs": [],
      "source": [
        "df2 = df2[['regional',\n",
        " 'site',\n",
        " 'client_class',\n",
        " 'client_subclass',\n",
        " 'connection_type',\n",
        " 'connection_status',\n",
        " 'installment_value',\n",
        " 'installment_status',\n",
        " 'total_debt',\n",
        " 'total_bills',\n",
        " 'disconnection_requested',\n",
        " 'disconnection_executed',\n",
        " 'disconnection_period',\n",
        " 'collected',]]"
      ]
    },
    {
      "cell_type": "code",
      "execution_count": 21,
      "metadata": {
        "colab": {
          "base_uri": "https://localhost:8080/",
          "height": 0
        },
        "id": "Ip-zc6D8Fx6H",
        "outputId": "33a5bb62-06a9-4071-f31a-db7d5df6e5e0"
      },
      "outputs": [
        {
          "output_type": "execute_result",
          "data": {
            "text/plain": [
              "   regional   site  client_class  client_subclass          connection_type  \\\n",
              "0         1  13414             1                7  single-phase connection   \n",
              "1         1  14071             1                1  single-phase connection   \n",
              "\n",
              "  connection_status  installment_value installment_status  total_debt  \\\n",
              "0      disconnected             252.39           complete      662.62   \n",
              "1      disconnected               0.00     not_applicable     1202.45   \n",
              "\n",
              "   total_bills disconnection_requested disconnection_executed  \\\n",
              "0            4           circuit_break          circuit_break   \n",
              "1           17           circuit_break          circuit_break   \n",
              "\n",
              "  disconnection_period  collected  \n",
              "0               3/2017        0.0  \n",
              "1               3/2017        0.0  "
            ],
            "text/html": [
              "\n",
              "  <div id=\"df-3d9c5e3f-1e31-4a2a-93eb-45e235624933\">\n",
              "    <div class=\"colab-df-container\">\n",
              "      <div>\n",
              "<style scoped>\n",
              "    .dataframe tbody tr th:only-of-type {\n",
              "        vertical-align: middle;\n",
              "    }\n",
              "\n",
              "    .dataframe tbody tr th {\n",
              "        vertical-align: top;\n",
              "    }\n",
              "\n",
              "    .dataframe thead th {\n",
              "        text-align: right;\n",
              "    }\n",
              "</style>\n",
              "<table border=\"1\" class=\"dataframe\">\n",
              "  <thead>\n",
              "    <tr style=\"text-align: right;\">\n",
              "      <th></th>\n",
              "      <th>regional</th>\n",
              "      <th>site</th>\n",
              "      <th>client_class</th>\n",
              "      <th>client_subclass</th>\n",
              "      <th>connection_type</th>\n",
              "      <th>connection_status</th>\n",
              "      <th>installment_value</th>\n",
              "      <th>installment_status</th>\n",
              "      <th>total_debt</th>\n",
              "      <th>total_bills</th>\n",
              "      <th>disconnection_requested</th>\n",
              "      <th>disconnection_executed</th>\n",
              "      <th>disconnection_period</th>\n",
              "      <th>collected</th>\n",
              "    </tr>\n",
              "  </thead>\n",
              "  <tbody>\n",
              "    <tr>\n",
              "      <th>0</th>\n",
              "      <td>1</td>\n",
              "      <td>13414</td>\n",
              "      <td>1</td>\n",
              "      <td>7</td>\n",
              "      <td>single-phase connection</td>\n",
              "      <td>disconnected</td>\n",
              "      <td>252.39</td>\n",
              "      <td>complete</td>\n",
              "      <td>662.62</td>\n",
              "      <td>4</td>\n",
              "      <td>circuit_break</td>\n",
              "      <td>circuit_break</td>\n",
              "      <td>3/2017</td>\n",
              "      <td>0.0</td>\n",
              "    </tr>\n",
              "    <tr>\n",
              "      <th>1</th>\n",
              "      <td>1</td>\n",
              "      <td>14071</td>\n",
              "      <td>1</td>\n",
              "      <td>1</td>\n",
              "      <td>single-phase connection</td>\n",
              "      <td>disconnected</td>\n",
              "      <td>0.00</td>\n",
              "      <td>not_applicable</td>\n",
              "      <td>1202.45</td>\n",
              "      <td>17</td>\n",
              "      <td>circuit_break</td>\n",
              "      <td>circuit_break</td>\n",
              "      <td>3/2017</td>\n",
              "      <td>0.0</td>\n",
              "    </tr>\n",
              "  </tbody>\n",
              "</table>\n",
              "</div>\n",
              "      <button class=\"colab-df-convert\" onclick=\"convertToInteractive('df-3d9c5e3f-1e31-4a2a-93eb-45e235624933')\"\n",
              "              title=\"Convert this dataframe to an interactive table.\"\n",
              "              style=\"display:none;\">\n",
              "        \n",
              "  <svg xmlns=\"http://www.w3.org/2000/svg\" height=\"24px\"viewBox=\"0 0 24 24\"\n",
              "       width=\"24px\">\n",
              "    <path d=\"M0 0h24v24H0V0z\" fill=\"none\"/>\n",
              "    <path d=\"M18.56 5.44l.94 2.06.94-2.06 2.06-.94-2.06-.94-.94-2.06-.94 2.06-2.06.94zm-11 1L8.5 8.5l.94-2.06 2.06-.94-2.06-.94L8.5 2.5l-.94 2.06-2.06.94zm10 10l.94 2.06.94-2.06 2.06-.94-2.06-.94-.94-2.06-.94 2.06-2.06.94z\"/><path d=\"M17.41 7.96l-1.37-1.37c-.4-.4-.92-.59-1.43-.59-.52 0-1.04.2-1.43.59L10.3 9.45l-7.72 7.72c-.78.78-.78 2.05 0 2.83L4 21.41c.39.39.9.59 1.41.59.51 0 1.02-.2 1.41-.59l7.78-7.78 2.81-2.81c.8-.78.8-2.07 0-2.86zM5.41 20L4 18.59l7.72-7.72 1.47 1.35L5.41 20z\"/>\n",
              "  </svg>\n",
              "      </button>\n",
              "      \n",
              "  <style>\n",
              "    .colab-df-container {\n",
              "      display:flex;\n",
              "      flex-wrap:wrap;\n",
              "      gap: 12px;\n",
              "    }\n",
              "\n",
              "    .colab-df-convert {\n",
              "      background-color: #E8F0FE;\n",
              "      border: none;\n",
              "      border-radius: 50%;\n",
              "      cursor: pointer;\n",
              "      display: none;\n",
              "      fill: #1967D2;\n",
              "      height: 32px;\n",
              "      padding: 0 0 0 0;\n",
              "      width: 32px;\n",
              "    }\n",
              "\n",
              "    .colab-df-convert:hover {\n",
              "      background-color: #E2EBFA;\n",
              "      box-shadow: 0px 1px 2px rgba(60, 64, 67, 0.3), 0px 1px 3px 1px rgba(60, 64, 67, 0.15);\n",
              "      fill: #174EA6;\n",
              "    }\n",
              "\n",
              "    [theme=dark] .colab-df-convert {\n",
              "      background-color: #3B4455;\n",
              "      fill: #D2E3FC;\n",
              "    }\n",
              "\n",
              "    [theme=dark] .colab-df-convert:hover {\n",
              "      background-color: #434B5C;\n",
              "      box-shadow: 0px 1px 3px 1px rgba(0, 0, 0, 0.15);\n",
              "      filter: drop-shadow(0px 1px 2px rgba(0, 0, 0, 0.3));\n",
              "      fill: #FFFFFF;\n",
              "    }\n",
              "  </style>\n",
              "\n",
              "      <script>\n",
              "        const buttonEl =\n",
              "          document.querySelector('#df-3d9c5e3f-1e31-4a2a-93eb-45e235624933 button.colab-df-convert');\n",
              "        buttonEl.style.display =\n",
              "          google.colab.kernel.accessAllowed ? 'block' : 'none';\n",
              "\n",
              "        async function convertToInteractive(key) {\n",
              "          const element = document.querySelector('#df-3d9c5e3f-1e31-4a2a-93eb-45e235624933');\n",
              "          const dataTable =\n",
              "            await google.colab.kernel.invokeFunction('convertToInteractive',\n",
              "                                                     [key], {});\n",
              "          if (!dataTable) return;\n",
              "\n",
              "          const docLinkHtml = 'Like what you see? Visit the ' +\n",
              "            '<a target=\"_blank\" href=https://colab.research.google.com/notebooks/data_table.ipynb>data table notebook</a>'\n",
              "            + ' to learn more about interactive tables.';\n",
              "          element.innerHTML = '';\n",
              "          dataTable['output_type'] = 'display_data';\n",
              "          await google.colab.output.renderOutput(dataTable, element);\n",
              "          const docLink = document.createElement('div');\n",
              "          docLink.innerHTML = docLinkHtml;\n",
              "          element.appendChild(docLink);\n",
              "        }\n",
              "      </script>\n",
              "    </div>\n",
              "  </div>\n",
              "  "
            ]
          },
          "metadata": {},
          "execution_count": 21
        }
      ],
      "source": [
        "df2.head(2)"
      ]
    },
    {
      "cell_type": "code",
      "execution_count": 22,
      "metadata": {
        "colab": {
          "base_uri": "https://localhost:8080/",
          "height": 0
        },
        "id": "L0rv6S2EF8mi",
        "outputId": "daec632d-e1b2-4794-cff9-bfc8d9b8c0ee"
      },
      "outputs": [
        {
          "output_type": "display_data",
          "data": {
            "text/plain": [
              "<Figure size 432x288 with 1 Axes>"
            ],
            "image/png": "[encoded data removed]"
          },
          "metadata": {
            "needs_background": "light"
          }
        }
      ],
      "source": [
        "#Looking for outliers in the numerical data using boxplots\n",
        "plt.boxplot(df2['installment_value'])\n",
        "plt.title(\"Installment Value\")\n",
        "plt.show()"
      ]
    },
    {
      "cell_type": "code",
      "execution_count": 23,
      "metadata": {
        "colab": {
          "base_uri": "https://localhost:8080/",
          "height": 0
        },
        "id": "5Gcj8CwRKY24",
        "outputId": "c80f420d-a234-4d61-af90-eb4c9faaaec0"
      },
      "outputs": [
        {
          "output_type": "display_data",
          "data": {
            "text/plain": [
              "<Figure size 432x288 with 1 Axes>"
            ],
            "image/png": "[encoded data removed]"
          },
          "metadata": {
            "needs_background": "light"
          }
        }
      ],
      "source": [
        "plt.boxplot(df2['total_debt'])\n",
        "plt.title(\"Total Debt\")\n",
        "plt.show()"
      ]
    },
    {
      "cell_type": "code",
      "execution_count": 24,
      "metadata": {
        "colab": {
          "base_uri": "https://localhost:8080/",
          "height": 0
        },
        "id": "zMyyIrKYKY0b",
        "outputId": "29ecbfa1-047a-4c9f-efac-19a463e5ca1e"
      },
      "outputs": [
        {
          "output_type": "display_data",
          "data": {
            "text/plain": [
              "<Figure size 432x288 with 1 Axes>"
            ],
            "image/png": "[encoded data removed]"
          },
          "metadata": {
            "needs_background": "light"
          }
        }
      ],
      "source": [
        "plt.boxplot(df2['total_bills'])\n",
        "plt.title(\"Total Bills\")\n",
        "plt.show()"
      ]
    },
    {
      "cell_type": "code",
      "execution_count": 25,
      "metadata": {
        "colab": {
          "base_uri": "https://localhost:8080/",
          "height": 0
        },
        "id": "IDceoshv-Uum",
        "outputId": "5d2e3701-f351-41e6-973d-9746fb423d82"
      },
      "outputs": [
        {
          "output_type": "execute_result",
          "data": {
            "text/plain": [
              "<matplotlib.axes._subplots.AxesSubplot at 0x7fb78659db50>"
            ]
          },
          "metadata": {},
          "execution_count": 25
        },
        {
          "output_type": "display_data",
          "data": {
            "text/plain": [
              "<Figure size 864x720 with 2 Axes>"
            ],
            "image/png": "[encoded data removed]"
          },
          "metadata": {
            "needs_background": "light"
          }
        }
      ],
      "source": [
        "#Plotting a correlation matrix to verrify how correlated our variables are\n",
        "plt.figure(figsize = (12,10))\n",
        "c = df2.corr()\n",
        "sns.heatmap(c, annot = True, cmap = 'twilight')"
      ]
    },
    {
      "cell_type": "markdown",
      "metadata": {
        "id": "YlY1Nd6uhS8S"
      },
      "source": [
        "### A2. What’s the distribution for customer total debt variable? Draw a histogram. How should you group this variable?"
      ]
    },
    {
      "cell_type": "code",
      "execution_count": 26,
      "metadata": {
        "colab": {
          "base_uri": "https://localhost:8080/",
          "height": 0
        },
        "id": "veUtVMTC9qBD",
        "outputId": "a72e04a6-7eef-4b1c-f2f3-a7225dfac991"
      },
      "outputs": [
        {
          "output_type": "stream",
          "name": "stdout",
          "text": [
            "Freedman–Diaconis number of bins: 72182\n"
          ]
        },
        {
          "output_type": "display_data",
          "data": {
            "text/plain": [
              "<Figure size 432x288 with 1 Axes>"
            ],
            "image/png": "[encoded data removed]"
          },
          "metadata": {
            "needs_background": "light"
          }
        }
      ],
      "source": [
        "#To verify the correct size of bins in a histogram we use the Freedman–Diaconis rule that is:\n",
        "#Bin Width = 2 * (IQR(x)) / (n^(-1/3))\n",
        "\n",
        "#Theres a disproportionate ammount of occurencies in the first bin (60.000+) so we're setting the maximum value of the y axis to 100 to be able to \n",
        "#visualize the histogram\n",
        "ax = plt.gca()\n",
        "ax.set_ylim([0, 100])\n",
        "\n",
        "#converting dataframe column to a list to pass into the formula\n",
        "x = df2['total_debt'].tolist()\n",
        "\n",
        "#getting the number of bins of the histogram\n",
        "q25, q75 = np.percentile(x, [25, 75])\n",
        "bin_width = 2 * (q75 - q25) * len(x) ** (-1/3)\n",
        "bins = round((max(x) - min(x))/bin_width)\n",
        "print(\"Freedman–Diaconis number of bins:\", bins)\n",
        "plt.hist(x, bins=bins)\n",
        "plt.show()"
      ]
    },
    {
      "cell_type": "markdown",
      "metadata": {
        "id": "uIMMHl2chdEF"
      },
      "source": [
        "### A3. Analyze the “collected” variable correlating it to separate variables. Plot this information."
      ]
    },
    {
      "cell_type": "code",
      "execution_count": 27,
      "metadata": {
        "colab": {
          "base_uri": "https://localhost:8080/",
          "height": 0
        },
        "id": "Sy1TABTWnskN",
        "outputId": "f6d47eb9-e44a-4fda-8e68-b10ec1cb489c"
      },
      "outputs": [
        {
          "output_type": "display_data",
          "data": {
            "text/plain": [
              "<Figure size 720x288 with 1 Axes>"
            ],
            "image/png": "[encoded data removed]"
          },
          "metadata": {
            "needs_background": "light"
          }
        }
      ],
      "source": [
        "#regional x collected\n",
        "plt.figure(figsize=(10,4))\n",
        "ax = sns.countplot(data=df2, x='regional', hue='collected')\n",
        "ax.set_xticklabels(ax.get_xticklabels(), ha=\"right\")\n",
        "plt.legend(loc=1)\n",
        "plt.show()"
      ]
    },
    {
      "cell_type": "code",
      "execution_count": 28,
      "metadata": {
        "colab": {
          "base_uri": "https://localhost:8080/",
          "height": 0
        },
        "id": "HENc13CKnsiP",
        "outputId": "6600cc39-aaa4-403d-81f8-f16f5c4256a8"
      },
      "outputs": [
        {
          "output_type": "display_data",
          "data": {
            "text/plain": [
              "<Figure size 1440x288 with 1 Axes>"
            ],
            "image/png": "[encoded data removed]"
          },
          "metadata": {
            "needs_background": "light"
          }
        }
      ],
      "source": [
        "#site x collected\n",
        "plt.figure(figsize=(20,4))\n",
        "ax = sns.countplot(data=df2, x='site', hue='collected')\n",
        "ax.set_xticklabels(ax.get_xticklabels(), rotation=40, ha=\"right\")\n",
        "plt.legend(loc=1)\n",
        "plt.show()"
      ]
    },
    {
      "cell_type": "code",
      "execution_count": 29,
      "metadata": {
        "colab": {
          "base_uri": "https://localhost:8080/",
          "height": 0
        },
        "id": "XV0LQp3yL69W",
        "outputId": "a4cd5d7f-7a92-4fa0-ff79-57a3622856be"
      },
      "outputs": [
        {
          "output_type": "display_data",
          "data": {
            "text/plain": [
              "<Figure size 720x288 with 1 Axes>"
            ],
            "image/png": "[encoded data removed]"
          },
          "metadata": {
            "needs_background": "light"
          }
        }
      ],
      "source": [
        "#client_class x collected\n",
        "plt.figure(figsize=(10,4))\n",
        "ax = sns.countplot(data=df2, x='client_class', hue='collected')\n",
        "ax.set_xticklabels(ax.get_xticklabels(), ha=\"right\")\n",
        "plt.legend(loc=1)\n",
        "plt.show()"
      ]
    },
    {
      "cell_type": "code",
      "execution_count": 30,
      "metadata": {
        "colab": {
          "base_uri": "https://localhost:8080/",
          "height": 0
        },
        "id": "NBpblWTwnsgO",
        "outputId": "dc1f585a-0002-4c13-fb05-38bc30cbdae1"
      },
      "outputs": [
        {
          "output_type": "display_data",
          "data": {
            "text/plain": [
              "<Figure size 720x288 with 1 Axes>"
            ],
            "image/png": "[encoded data removed]"
          },
          "metadata": {
            "needs_background": "light"
          }
        }
      ],
      "source": [
        "#client_subclass x collected\n",
        "plt.figure(figsize=(10,4))\n",
        "ax = sns.countplot(data=df2, x='client_subclass', hue='collected')\n",
        "ax.set_xticklabels(ax.get_xticklabels(), ha=\"right\")\n",
        "plt.legend(loc=1)\n",
        "plt.show()"
      ]
    },
    {
      "cell_type": "code",
      "execution_count": 31,
      "metadata": {
        "colab": {
          "base_uri": "https://localhost:8080/",
          "height": 0
        },
        "id": "jQnVuyyDOAWQ",
        "outputId": "3b3b725f-ae2e-4fde-f889-d685606d3314"
      },
      "outputs": [
        {
          "output_type": "display_data",
          "data": {
            "text/plain": [
              "<Figure size 720x288 with 1 Axes>"
            ],
            "image/png": "[encoded data removed]"
          },
          "metadata": {
            "needs_background": "light"
          }
        }
      ],
      "source": [
        "#connection_type x collected\n",
        "plt.figure(figsize=(10,4))\n",
        "ax = sns.countplot(data=df2, x='connection_type', hue='collected')\n",
        "ax.set_xticklabels(ax.get_xticklabels(), ha=\"right\")\n",
        "plt.legend(loc=1)\n",
        "plt.show()"
      ]
    },
    {
      "cell_type": "code",
      "execution_count": 32,
      "metadata": {
        "colab": {
          "base_uri": "https://localhost:8080/",
          "height": 0
        },
        "id": "KswzYgOyOTaU",
        "outputId": "4012a98a-a8b0-4ed2-cb8a-910cc1c5ba12"
      },
      "outputs": [
        {
          "output_type": "display_data",
          "data": {
            "text/plain": [
              "<Figure size 720x288 with 1 Axes>"
            ],
            "image/png": "[encoded data removed]"
          },
          "metadata": {
            "needs_background": "light"
          }
        }
      ],
      "source": [
        "#connection_status x collected\n",
        "plt.figure(figsize=(10,4))\n",
        "ax = sns.countplot(data=df2, x='connection_status', hue='collected')\n",
        "ax.set_xticklabels(ax.get_xticklabels(), ha=\"right\")\n",
        "plt.legend(loc=1)\n",
        "plt.show()"
      ]
    },
    {
      "cell_type": "code",
      "execution_count": 33,
      "metadata": {
        "colab": {
          "base_uri": "https://localhost:8080/",
          "height": 0
        },
        "id": "2acIOZ4BOcTS",
        "outputId": "28f44862-1265-4b7f-ea29-74e31e65f6a5"
      },
      "outputs": [
        {
          "output_type": "display_data",
          "data": {
            "text/plain": [
              "<Figure size 720x288 with 1 Axes>"
            ],
            "image/png": "[encoded data removed]"
          },
          "metadata": {
            "needs_background": "light"
          }
        }
      ],
      "source": [
        "#installment_status x collected\n",
        "plt.figure(figsize=(10,4))\n",
        "ax = sns.countplot(data=df2, x='installment_status', hue='collected')\n",
        "ax.set_xticklabels(ax.get_xticklabels(), ha=\"right\")\n",
        "plt.legend(loc=1)\n",
        "plt.show()"
      ]
    },
    {
      "cell_type": "code",
      "execution_count": 34,
      "metadata": {
        "colab": {
          "base_uri": "https://localhost:8080/",
          "height": 0
        },
        "id": "xKJ22_PBOcPA",
        "outputId": "2185c255-3cb7-465d-c2a0-fb7c401e0adc"
      },
      "outputs": [
        {
          "output_type": "display_data",
          "data": {
            "text/plain": [
              "<Figure size 720x288 with 1 Axes>"
            ],
            "image/png": "[encoded data removed]"
          },
          "metadata": {
            "needs_background": "light"
          }
        }
      ],
      "source": [
        "#total_bills x collected\n",
        "plt.figure(figsize=(10,4))\n",
        "ax = sns.countplot(data=df2, x='total_bills', hue='collected')\n",
        "ax.set_xticklabels(ax.get_xticklabels(), ha=\"right\")\n",
        "plt.legend(loc=1)\n",
        "plt.show()"
      ]
    },
    {
      "cell_type": "code",
      "execution_count": 35,
      "metadata": {
        "colab": {
          "base_uri": "https://localhost:8080/",
          "height": 0
        },
        "id": "yFqCjrGxOcM5",
        "outputId": "c39966e4-a2f3-48e4-9abd-0a0bc5dba8c2"
      },
      "outputs": [
        {
          "output_type": "display_data",
          "data": {
            "text/plain": [
              "<Figure size 720x288 with 1 Axes>"
            ],
            "image/png": "[encoded data removed]"
          },
          "metadata": {
            "needs_background": "light"
          }
        }
      ],
      "source": [
        "#disconnection_requested x collected\n",
        "plt.figure(figsize=(10,4))\n",
        "ax = sns.countplot(data=df2, x='disconnection_requested', hue='collected')\n",
        "ax.set_xticklabels(ax.get_xticklabels(), ha=\"right\")\n",
        "plt.legend(loc=1)\n",
        "plt.show()"
      ]
    },
    {
      "cell_type": "code",
      "execution_count": 36,
      "metadata": {
        "colab": {
          "base_uri": "https://localhost:8080/",
          "height": 0
        },
        "id": "_ZLBIQRpOcKM",
        "outputId": "11343d2e-cb79-4329-a243-b330422e6f96"
      },
      "outputs": [
        {
          "output_type": "display_data",
          "data": {
            "text/plain": [
              "<Figure size 720x288 with 1 Axes>"
            ],
            "image/png": "[encoded data removed]"
          },
          "metadata": {
            "needs_background": "light"
          }
        }
      ],
      "source": [
        "#disconnection_executed x collected\n",
        "plt.figure(figsize=(10,4))\n",
        "ax = sns.countplot(data=df2, x='disconnection_executed', hue='collected')\n",
        "ax.set_xticklabels(ax.get_xticklabels(), ha=\"right\")\n",
        "plt.legend(loc=1)\n",
        "plt.show()"
      ]
    },
    {
      "cell_type": "code",
      "execution_count": 37,
      "metadata": {
        "colab": {
          "base_uri": "https://localhost:8080/",
          "height": 0
        },
        "id": "RsC25l4mP7dS",
        "outputId": "0fa59683-77ae-4273-f487-848db4ee43b6"
      },
      "outputs": [
        {
          "output_type": "display_data",
          "data": {
            "text/plain": [
              "<Figure size 720x288 with 1 Axes>"
            ],
            "image/png": "[encoded data removed]"
          },
          "metadata": {
            "needs_background": "light"
          }
        }
      ],
      "source": [
        "#disconnection_period x collected\n",
        "plt.figure(figsize=(10,4))\n",
        "ax = sns.countplot(data=df2, x='disconnection_period', hue='collected')\n",
        "ax.set_xticklabels(ax.get_xticklabels(), ha=\"right\")\n",
        "plt.legend(loc=1)\n",
        "plt.show()"
      ]
    },
    {
      "cell_type": "code",
      "execution_count": 38,
      "metadata": {
        "id": "ukl8VdcH_Myy"
      },
      "outputs": [],
      "source": [
        "#As we can see in the charts above, there are some variables that explain our model much more than others without adding too much\n",
        "#complexity. We could try to guess by looking at these charts which ones would be best fitted to predict our model but we will use a statistical model\n",
        "#model to make this prediction in the next segment."
      ]
    },
    {
      "cell_type": "markdown",
      "metadata": {
        "id": "WdltwXMiZW9B"
      },
      "source": [
        "##B. Feature selection"
      ]
    },
    {
      "cell_type": "markdown",
      "metadata": {
        "id": "aob6NjH9ZqBD"
      },
      "source": [
        "### B1. Select the top 3-6 variables you consider that may be most important for root-cause analysis. Explain your considerations."
      ]
    },
    {
      "cell_type": "code",
      "execution_count": 39,
      "metadata": {
        "id": "7bRk1qsYjnGq"
      },
      "outputs": [],
      "source": [
        "#Here we're going to use a statistical model for feature selection, not for dimensionality reduction e.g. PCA. Considering our dataset does not have too many\n",
        "#variables, the second one would probably be unnecessary."
      ]
    },
    {
      "cell_type": "code",
      "execution_count": 40,
      "metadata": {
        "id": "ILqc4t6RSZ2o"
      },
      "outputs": [],
      "source": [
        "#We will use a filter called Chi-Square.\n",
        "\n",
        "#Explaining Chi-Square:\n",
        "\n",
        "#When two features are independent, the observed count is close to the expected count, thus we will have smaller Chi-Square value. So high Chi-Square \n",
        "#value indicates that the hypothesis of independence is incorrect. In simple words, higher Chi-Square values represent that the feature is more dependent \n",
        "#on the response and it can be selected for model training."
      ]
    },
    {
      "cell_type": "code",
      "execution_count": 41,
      "metadata": {
        "colab": {
          "base_uri": "https://localhost:8080/",
          "height": 0
        },
        "id": "QjdBxFmZLlaJ",
        "outputId": "832ce620-4efa-40f8-c7c9-3500e2003463"
      },
      "outputs": [
        {
          "output_type": "execute_result",
          "data": {
            "text/plain": [
              "   regional   site  client_class  client_subclass  connection_type  \\\n",
              "0         1  13414             1                7                0   \n",
              "1         1  14071             1                1                0   \n",
              "\n",
              "   connection_status  installment_value  installment_status  total_debt  \\\n",
              "0                  0             252.39                   0      662.62   \n",
              "1                  0               0.00                   1     1202.45   \n",
              "\n",
              "   total_bills  disconnection_requested  disconnection_executed  \\\n",
              "0            4                        0                       0   \n",
              "1           17                        0                       0   \n",
              "\n",
              "   disconnection_period  collected  \n",
              "0                     0        0.0  \n",
              "1                     0        0.0  "
            ],
            "text/html": [
              "\n",
              "  <div id=\"df-a05ea55f-0a06-42a6-b120-7d378b2b5f88\">\n",
              "    <div class=\"colab-df-container\">\n",
              "      <div>\n",
              "<style scoped>\n",
              "    .dataframe tbody tr th:only-of-type {\n",
              "        vertical-align: middle;\n",
              "    }\n",
              "\n",
              "    .dataframe tbody tr th {\n",
              "        vertical-align: top;\n",
              "    }\n",
              "\n",
              "    .dataframe thead th {\n",
              "        text-align: right;\n",
              "    }\n",
              "</style>\n",
              "<table border=\"1\" class=\"dataframe\">\n",
              "  <thead>\n",
              "    <tr style=\"text-align: right;\">\n",
              "      <th></th>\n",
              "      <th>regional</th>\n",
              "      <th>site</th>\n",
              "      <th>client_class</th>\n",
              "      <th>client_subclass</th>\n",
              "      <th>connection_type</th>\n",
              "      <th>connection_status</th>\n",
              "      <th>installment_value</th>\n",
              "      <th>installment_status</th>\n",
              "      <th>total_debt</th>\n",
              "      <th>total_bills</th>\n",
              "      <th>disconnection_requested</th>\n",
              "      <th>disconnection_executed</th>\n",
              "      <th>disconnection_period</th>\n",
              "      <th>collected</th>\n",
              "    </tr>\n",
              "  </thead>\n",
              "  <tbody>\n",
              "    <tr>\n",
              "      <th>0</th>\n",
              "      <td>1</td>\n",
              "      <td>13414</td>\n",
              "      <td>1</td>\n",
              "      <td>7</td>\n",
              "      <td>0</td>\n",
              "      <td>0</td>\n",
              "      <td>252.39</td>\n",
              "      <td>0</td>\n",
              "      <td>662.62</td>\n",
              "      <td>4</td>\n",
              "      <td>0</td>\n",
              "      <td>0</td>\n",
              "      <td>0</td>\n",
              "      <td>0.0</td>\n",
              "    </tr>\n",
              "    <tr>\n",
              "      <th>1</th>\n",
              "      <td>1</td>\n",
              "      <td>14071</td>\n",
              "      <td>1</td>\n",
              "      <td>1</td>\n",
              "      <td>0</td>\n",
              "      <td>0</td>\n",
              "      <td>0.00</td>\n",
              "      <td>1</td>\n",
              "      <td>1202.45</td>\n",
              "      <td>17</td>\n",
              "      <td>0</td>\n",
              "      <td>0</td>\n",
              "      <td>0</td>\n",
              "      <td>0.0</td>\n",
              "    </tr>\n",
              "  </tbody>\n",
              "</table>\n",
              "</div>\n",
              "      <button class=\"colab-df-convert\" onclick=\"convertToInteractive('df-a05ea55f-0a06-42a6-b120-7d378b2b5f88')\"\n",
              "              title=\"Convert this dataframe to an interactive table.\"\n",
              "              style=\"display:none;\">\n",
              "        \n",
              "  <svg xmlns=\"http://www.w3.org/2000/svg\" height=\"24px\"viewBox=\"0 0 24 24\"\n",
              "       width=\"24px\">\n",
              "    <path d=\"M0 0h24v24H0V0z\" fill=\"none\"/>\n",
              "    <path d=\"M18.56 5.44l.94 2.06.94-2.06 2.06-.94-2.06-.94-.94-2.06-.94 2.06-2.06.94zm-11 1L8.5 8.5l.94-2.06 2.06-.94-2.06-.94L8.5 2.5l-.94 2.06-2.06.94zm10 10l.94 2.06.94-2.06 2.06-.94-2.06-.94-.94-2.06-.94 2.06-2.06.94z\"/><path d=\"M17.41 7.96l-1.37-1.37c-.4-.4-.92-.59-1.43-.59-.52 0-1.04.2-1.43.59L10.3 9.45l-7.72 7.72c-.78.78-.78 2.05 0 2.83L4 21.41c.39.39.9.59 1.41.59.51 0 1.02-.2 1.41-.59l7.78-7.78 2.81-2.81c.8-.78.8-2.07 0-2.86zM5.41 20L4 18.59l7.72-7.72 1.47 1.35L5.41 20z\"/>\n",
              "  </svg>\n",
              "      </button>\n",
              "      \n",
              "  <style>\n",
              "    .colab-df-container {\n",
              "      display:flex;\n",
              "      flex-wrap:wrap;\n",
              "      gap: 12px;\n",
              "    }\n",
              "\n",
              "    .colab-df-convert {\n",
              "      background-color: #E8F0FE;\n",
              "      border: none;\n",
              "      border-radius: 50%;\n",
              "      cursor: pointer;\n",
              "      display: none;\n",
              "      fill: #1967D2;\n",
              "      height: 32px;\n",
              "      padding: 0 0 0 0;\n",
              "      width: 32px;\n",
              "    }\n",
              "\n",
              "    .colab-df-convert:hover {\n",
              "      background-color: #E2EBFA;\n",
              "      box-shadow: 0px 1px 2px rgba(60, 64, 67, 0.3), 0px 1px 3px 1px rgba(60, 64, 67, 0.15);\n",
              "      fill: #174EA6;\n",
              "    }\n",
              "\n",
              "    [theme=dark] .colab-df-convert {\n",
              "      background-color: #3B4455;\n",
              "      fill: #D2E3FC;\n",
              "    }\n",
              "\n",
              "    [theme=dark] .colab-df-convert:hover {\n",
              "      background-color: #434B5C;\n",
              "      box-shadow: 0px 1px 3px 1px rgba(0, 0, 0, 0.15);\n",
              "      filter: drop-shadow(0px 1px 2px rgba(0, 0, 0, 0.3));\n",
              "      fill: #FFFFFF;\n",
              "    }\n",
              "  </style>\n",
              "\n",
              "      <script>\n",
              "        const buttonEl =\n",
              "          document.querySelector('#df-a05ea55f-0a06-42a6-b120-7d378b2b5f88 button.colab-df-convert');\n",
              "        buttonEl.style.display =\n",
              "          google.colab.kernel.accessAllowed ? 'block' : 'none';\n",
              "\n",
              "        async function convertToInteractive(key) {\n",
              "          const element = document.querySelector('#df-a05ea55f-0a06-42a6-b120-7d378b2b5f88');\n",
              "          const dataTable =\n",
              "            await google.colab.kernel.invokeFunction('convertToInteractive',\n",
              "                                                     [key], {});\n",
              "          if (!dataTable) return;\n",
              "\n",
              "          const docLinkHtml = 'Like what you see? Visit the ' +\n",
              "            '<a target=\"_blank\" href=https://colab.research.google.com/notebooks/data_table.ipynb>data table notebook</a>'\n",
              "            + ' to learn more about interactive tables.';\n",
              "          element.innerHTML = '';\n",
              "          dataTable['output_type'] = 'display_data';\n",
              "          await google.colab.output.renderOutput(dataTable, element);\n",
              "          const docLink = document.createElement('div');\n",
              "          docLink.innerHTML = docLinkHtml;\n",
              "          element.appendChild(docLink);\n",
              "        }\n",
              "      </script>\n",
              "    </div>\n",
              "  </div>\n",
              "  "
            ]
          },
          "metadata": {},
          "execution_count": 41
        }
      ],
      "source": [
        "#copy dataframe to manipulate it's data\n",
        "df2_copy = df2.copy() \n",
        "\n",
        "#get all categorical columns\n",
        "cat_columns = df2_copy.select_dtypes(['object']).columns\n",
        "\n",
        "#convert all categorical columns to numeric\n",
        "df2_copy[cat_columns] = df2_copy[cat_columns].apply(lambda x: pd.factorize(x)[0])\n",
        "\n",
        "df2_copy.head(2)"
      ]
    },
    {
      "cell_type": "code",
      "execution_count": 42,
      "metadata": {
        "colab": {
          "base_uri": "https://localhost:8080/"
        },
        "id": "gxMJlgd7Ej5B",
        "outputId": "60d15699-3e5b-437a-9209-42de9ffbc078"
      },
      "outputs": [
        {
          "output_type": "stream",
          "name": "stdout",
          "text": [
            "TOP 6 Features (Best to worst) :\n",
            "\n",
            "['total_debt' 'site' 'installment_value' 'total_bills' 'connection_status'\n",
            " 'disconnection_executed']\n"
          ]
        }
      ],
      "source": [
        "#Splitting the dataframe in order to use the chi squared to make the features selecion\n",
        "X = df2_copy.drop('collected',axis=1)\n",
        "y = df2_copy['collected']\n",
        "\n",
        "#Applying chi squared algorythm and selecting the 6 best features\n",
        "test = SelectKBest(score_func=chi2, k=6)\n",
        "fit = test.fit(X, y)\n",
        "\n",
        "X_new=test.fit_transform(X, y)\n",
        "feat_importances = pd.Series(fit.scores_, index=X.columns)\n",
        "topFatures = feat_importances.nlargest(6).copy().index.values\n",
        "\n",
        "print(\"TOP 6 Features (Best to worst) :\\n\")\n",
        "print(topFatures)"
      ]
    },
    {
      "cell_type": "markdown",
      "metadata": {
        "id": "aIneNzZeZv38"
      },
      "source": [
        "### B2. Are there any kind of preprocessing needed for these variables? Do that if so."
      ]
    },
    {
      "cell_type": "code",
      "execution_count": 43,
      "metadata": {
        "id": "3_SKEMU1Z2oi"
      },
      "outputs": [],
      "source": [
        "#Yes, in this stage we still need to the the following:\n",
        "#-Remove outliers from the numerical data('total_debt' 'installment_value' 'total_bills') (outliers can make our model perform poorly so it's always good to remove them)\n",
        "#-Balance the dependent variable if needed ('collected') (balancing the classes is important to help the model train equaly on every class available)\n",
        "#-Create dummy variables for the categorical variables(connection_status' 'disconnection_executed') (the models usually don't understand categorical data so we need to transform\n",
        "#them to numerical data)\n",
        "#-Normalize Dataset (normalization is important so the model considers all variables with the same weight to the model, not normalizing can make our model perform poorly)\n",
        "\n",
        "#We don't need to handle missing values or feature selection because thats been done in previous items"
      ]
    },
    {
      "cell_type": "code",
      "execution_count": 44,
      "metadata": {
        "colab": {
          "base_uri": "https://localhost:8080/"
        },
        "id": "2HN5ctJH5WPL",
        "outputId": "a794dd0c-6efd-42fd-b006-8720e554e1d0"
      },
      "outputs": [
        {
          "output_type": "stream",
          "name": "stdout",
          "text": [
            "Highest value allowed for total_debt 7071.144487934689\n",
            "Highest value allowed for installment_value 2565.5219124720866\n",
            "Highest value allowed for total_bills 15.917414340764383\n"
          ]
        }
      ],
      "source": [
        "#To remove outliers we are going to use Z Score to define the values as outliers. \n",
        "#Considering these distributions are approximate like a half normal distribution, only Above mean+3*(sigma) values are considered outliers.\n",
        "\n",
        "print(\"Highest value allowed for total_debt\",df2['total_debt'].mean() + 3*df2['total_debt'].std())\n",
        "print(\"Highest value allowed for installment_value\",df2['installment_value'].mean() + 3*df2['installment_value'].std())\n",
        "print(\"Highest value allowed for total_bills\",df2['total_bills'].mean() + 3*df2['total_bills'].std())"
      ]
    },
    {
      "cell_type": "code",
      "execution_count": 45,
      "metadata": {
        "colab": {
          "base_uri": "https://localhost:8080/"
        },
        "id": "jhwhwXgL_0wz",
        "outputId": "b43a6d79-4f9e-4450-f61c-61d2f48bd3a0"
      },
      "outputs": [
        {
          "output_type": "execute_result",
          "data": {
            "text/plain": [
              "(618346, 14)"
            ]
          },
          "metadata": {},
          "execution_count": 45
        }
      ],
      "source": [
        "#Shape of the dataset before trimming the outliers\n",
        "df2.shape"
      ]
    },
    {
      "cell_type": "code",
      "execution_count": 46,
      "metadata": {
        "colab": {
          "base_uri": "https://localhost:8080/"
        },
        "id": "hq-dtn2-ALbs",
        "outputId": "5efc10c9-ed8a-47c8-b57a-a194c2e2bb3e"
      },
      "outputs": [
        {
          "output_type": "execute_result",
          "data": {
            "text/plain": [
              "(600478, 14)"
            ]
          },
          "metadata": {},
          "execution_count": 46
        }
      ],
      "source": [
        "#Shape of the dataset after trimming the outliers\n",
        "df2 = df2[df2.total_bills < 15.92]\n",
        "df2 = df2[df2.installment_value < 2565.53]\n",
        "df2 = df2[df2.total_debt < 7071.15]\n",
        "df2.shape"
      ]
    },
    {
      "cell_type": "code",
      "execution_count": 47,
      "metadata": {
        "colab": {
          "base_uri": "https://localhost:8080/",
          "height": 0
        },
        "id": "ODcdrOTDZ3P5",
        "outputId": "007e76e7-7494-41dd-aa7f-f4ea6d356c8d"
      },
      "outputs": [
        {
          "output_type": "execute_result",
          "data": {
            "text/plain": [
              "0.0    335207\n",
              "1.0    265271\n",
              "Name: collected, dtype: int64"
            ]
          },
          "metadata": {},
          "execution_count": 47
        },
        {
          "output_type": "display_data",
          "data": {
            "text/plain": [
              "<Figure size 432x288 with 1 Axes>"
            ],
            "image/png": "[encoded data removed]"
          },
          "metadata": {
            "needs_background": "light"
          }
        }
      ],
      "source": [
        "#Balancing the dataset. If the data set is unbalanced we might have problems during training as the model could overtrain in one class over the other.\n",
        "#If needed, here we can choose to upsample, downsample or generate synthetic data with an algorithm like SMOTE.\n",
        "\n",
        "#Check how balanced the dataset is\n",
        "ax = sns.countplot(data=df2, x='collected',palette=\"Blues\")\n",
        "df2['collected'].value_counts()"
      ]
    },
    {
      "cell_type": "code",
      "execution_count": 48,
      "metadata": {
        "colab": {
          "base_uri": "https://localhost:8080/"
        },
        "id": "sM6hpDsyZ3Jy",
        "outputId": "a72a803d-e5c1-4b13-ecfb-eb6a633ac9ae"
      },
      "outputs": [
        {
          "output_type": "execute_result",
          "data": {
            "text/plain": [
              "0.0    335207\n",
              "1.0    335207\n",
              "Name: collected, dtype: int64"
            ]
          },
          "metadata": {},
          "execution_count": 48
        }
      ],
      "source": [
        "#To make sure we won't lose any information, we'll choose to upsample the dataset. Ideally we would try each method and check the models performance\n",
        "#and choose the best one\n",
        "\n",
        "#breaking apart the minor and major classes\n",
        "df2_major = df2[df2.collected==0]\n",
        "df2_minor = df2[df2.collected==1]\n",
        "\n",
        "#upsampling the minor class\n",
        "df2_minor_upsampled = resample(df2_minor, \n",
        "                                 replace=True,     \n",
        "                                 n_samples=335207,    \n",
        "                                 random_state=123)\n",
        "\n",
        "#combining both classes again\n",
        "df4 = pd.concat([df2_major, df2_minor_upsampled])\n",
        "\n",
        "#resetting index\n",
        "df4.reset_index(drop=True, inplace=True)\n",
        "\n",
        "#checking if the classes are balanced\n",
        "df4.collected.value_counts()"
      ]
    },
    {
      "cell_type": "code",
      "execution_count": 49,
      "metadata": {
        "colab": {
          "base_uri": "https://localhost:8080/"
        },
        "id": "WimIeJMs491T",
        "outputId": "ff758fbb-1295-4399-85b2-a2d7a52fe4a4"
      },
      "outputs": [
        {
          "output_type": "stream",
          "name": "stdout",
          "text": [
            "<class 'pandas.core.frame.DataFrame'>\n",
            "RangeIndex: 670414 entries, 0 to 670413\n",
            "Data columns (total 36 columns):\n",
            " #   Column                                   Non-Null Count   Dtype  \n",
            "---  ------                                   --------------   -----  \n",
            " 0   regional                                 670414 non-null  int64  \n",
            " 1   site                                     670414 non-null  int64  \n",
            " 2   client_class                             670414 non-null  int64  \n",
            " 3   client_subclass                          670414 non-null  int64  \n",
            " 4   installment_value                        670414 non-null  float64\n",
            " 5   total_debt                               670414 non-null  float64\n",
            " 6   total_bills                              670414 non-null  int64  \n",
            " 7   collected                                670414 non-null  float64\n",
            " 8   connection_type_biphasic connection      670414 non-null  uint8  \n",
            " 9   connection_type_single-phase connection  670414 non-null  uint8  \n",
            " 10  connection_type_three-phase connection   670414 non-null  uint8  \n",
            " 11  connection_status_connected              670414 non-null  uint8  \n",
            " 12  connection_status_disconnected           670414 non-null  uint8  \n",
            " 13  installment_status_complete              670414 non-null  uint8  \n",
            " 14  installment_status_current               670414 non-null  uint8  \n",
            " 15  installment_status_not_applicable        670414 non-null  uint8  \n",
            " 16  disconnection_requested_branch           670414 non-null  uint8  \n",
            " 17  disconnection_requested_circuit_break    670414 non-null  uint8  \n",
            " 18  disconnection_requested_pole             670414 non-null  uint8  \n",
            " 19  disconnection_requested_remote           670414 non-null  uint8  \n",
            " 20  disconnection_executed_branch            670414 non-null  uint8  \n",
            " 21  disconnection_executed_circuit_break     670414 non-null  uint8  \n",
            " 22  disconnection_executed_pole              670414 non-null  uint8  \n",
            " 23  disconnection_executed_remote            670414 non-null  uint8  \n",
            " 24  disconnection_period_1/2018              670414 non-null  uint8  \n",
            " 25  disconnection_period_10/2017             670414 non-null  uint8  \n",
            " 26  disconnection_period_11/2017             670414 non-null  uint8  \n",
            " 27  disconnection_period_12/2017             670414 non-null  uint8  \n",
            " 28  disconnection_period_2/2018              670414 non-null  uint8  \n",
            " 29  disconnection_period_3/2017              670414 non-null  uint8  \n",
            " 30  disconnection_period_4/2017              670414 non-null  uint8  \n",
            " 31  disconnection_period_5/2017              670414 non-null  uint8  \n",
            " 32  disconnection_period_6/2017              670414 non-null  uint8  \n",
            " 33  disconnection_period_7/2017              670414 non-null  uint8  \n",
            " 34  disconnection_period_8/2017              670414 non-null  uint8  \n",
            " 35  disconnection_period_9/2017              670414 non-null  uint8  \n",
            "dtypes: float64(3), int64(5), uint8(28)\n",
            "memory usage: 58.8 MB\n"
          ]
        }
      ],
      "source": [
        "#Creating dummy variables for the categorical data (connection_status' 'disconnection_executed')\n",
        "df4 = pd.get_dummies(df4)\n",
        "df4.info()"
      ]
    },
    {
      "cell_type": "code",
      "execution_count": 50,
      "metadata": {
        "colab": {
          "base_uri": "https://localhost:8080/",
          "height": 0
        },
        "id": "iuPZfDWyFkaw",
        "outputId": "8aaeb9df-9c96-4c2d-ec57-090b11f86255"
      },
      "outputs": [
        {
          "output_type": "execute_result",
          "data": {
            "text/plain": [
              "    site  total_debt  installment_value  total_bills  \\\n",
              "0  13414      662.62             252.39            4   \n",
              "1  12380      352.56               0.00            1   \n",
              "\n",
              "   connection_status_connected  connection_status_disconnected  \\\n",
              "0                            0                               1   \n",
              "1                            0                               1   \n",
              "\n",
              "   disconnection_executed_branch  disconnection_executed_circuit_break  \\\n",
              "0                              0                                     1   \n",
              "1                              0                                     1   \n",
              "\n",
              "   disconnection_executed_pole  disconnection_requested_remote  collected  \n",
              "0                            0                               0        0.0  \n",
              "1                            0                               0        0.0  "
            ],
            "text/html": [
              "\n",
              "  <div id=\"df-3d3c3566-3719-4874-a926-d3ff4e1bbab1\">\n",
              "    <div class=\"colab-df-container\">\n",
              "      <div>\n",
              "<style scoped>\n",
              "    .dataframe tbody tr th:only-of-type {\n",
              "        vertical-align: middle;\n",
              "    }\n",
              "\n",
              "    .dataframe tbody tr th {\n",
              "        vertical-align: top;\n",
              "    }\n",
              "\n",
              "    .dataframe thead th {\n",
              "        text-align: right;\n",
              "    }\n",
              "</style>\n",
              "<table border=\"1\" class=\"dataframe\">\n",
              "  <thead>\n",
              "    <tr style=\"text-align: right;\">\n",
              "      <th></th>\n",
              "      <th>site</th>\n",
              "      <th>total_debt</th>\n",
              "      <th>installment_value</th>\n",
              "      <th>total_bills</th>\n",
              "      <th>connection_status_connected</th>\n",
              "      <th>connection_status_disconnected</th>\n",
              "      <th>disconnection_executed_branch</th>\n",
              "      <th>disconnection_executed_circuit_break</th>\n",
              "      <th>disconnection_executed_pole</th>\n",
              "      <th>disconnection_requested_remote</th>\n",
              "      <th>collected</th>\n",
              "    </tr>\n",
              "  </thead>\n",
              "  <tbody>\n",
              "    <tr>\n",
              "      <th>0</th>\n",
              "      <td>13414</td>\n",
              "      <td>662.62</td>\n",
              "      <td>252.39</td>\n",
              "      <td>4</td>\n",
              "      <td>0</td>\n",
              "      <td>1</td>\n",
              "      <td>0</td>\n",
              "      <td>1</td>\n",
              "      <td>0</td>\n",
              "      <td>0</td>\n",
              "      <td>0.0</td>\n",
              "    </tr>\n",
              "    <tr>\n",
              "      <th>1</th>\n",
              "      <td>12380</td>\n",
              "      <td>352.56</td>\n",
              "      <td>0.00</td>\n",
              "      <td>1</td>\n",
              "      <td>0</td>\n",
              "      <td>1</td>\n",
              "      <td>0</td>\n",
              "      <td>1</td>\n",
              "      <td>0</td>\n",
              "      <td>0</td>\n",
              "      <td>0.0</td>\n",
              "    </tr>\n",
              "  </tbody>\n",
              "</table>\n",
              "</div>\n",
              "      <button class=\"colab-df-convert\" onclick=\"convertToInteractive('df-3d3c3566-3719-4874-a926-d3ff4e1bbab1')\"\n",
              "              title=\"Convert this dataframe to an interactive table.\"\n",
              "              style=\"display:none;\">\n",
              "        \n",
              "  <svg xmlns=\"http://www.w3.org/2000/svg\" height=\"24px\"viewBox=\"0 0 24 24\"\n",
              "       width=\"24px\">\n",
              "    <path d=\"M0 0h24v24H0V0z\" fill=\"none\"/>\n",
              "    <path d=\"M18.56 5.44l.94 2.06.94-2.06 2.06-.94-2.06-.94-.94-2.06-.94 2.06-2.06.94zm-11 1L8.5 8.5l.94-2.06 2.06-.94-2.06-.94L8.5 2.5l-.94 2.06-2.06.94zm10 10l.94 2.06.94-2.06 2.06-.94-2.06-.94-.94-2.06-.94 2.06-2.06.94z\"/><path d=\"M17.41 7.96l-1.37-1.37c-.4-.4-.92-.59-1.43-.59-.52 0-1.04.2-1.43.59L10.3 9.45l-7.72 7.72c-.78.78-.78 2.05 0 2.83L4 21.41c.39.39.9.59 1.41.59.51 0 1.02-.2 1.41-.59l7.78-7.78 2.81-2.81c.8-.78.8-2.07 0-2.86zM5.41 20L4 18.59l7.72-7.72 1.47 1.35L5.41 20z\"/>\n",
              "  </svg>\n",
              "      </button>\n",
              "      \n",
              "  <style>\n",
              "    .colab-df-container {\n",
              "      display:flex;\n",
              "      flex-wrap:wrap;\n",
              "      gap: 12px;\n",
              "    }\n",
              "\n",
              "    .colab-df-convert {\n",
              "      background-color: #E8F0FE;\n",
              "      border: none;\n",
              "      border-radius: 50%;\n",
              "      cursor: pointer;\n",
              "      display: none;\n",
              "      fill: #1967D2;\n",
              "      height: 32px;\n",
              "      padding: 0 0 0 0;\n",
              "      width: 32px;\n",
              "    }\n",
              "\n",
              "    .colab-df-convert:hover {\n",
              "      background-color: #E2EBFA;\n",
              "      box-shadow: 0px 1px 2px rgba(60, 64, 67, 0.3), 0px 1px 3px 1px rgba(60, 64, 67, 0.15);\n",
              "      fill: #174EA6;\n",
              "    }\n",
              "\n",
              "    [theme=dark] .colab-df-convert {\n",
              "      background-color: #3B4455;\n",
              "      fill: #D2E3FC;\n",
              "    }\n",
              "\n",
              "    [theme=dark] .colab-df-convert:hover {\n",
              "      background-color: #434B5C;\n",
              "      box-shadow: 0px 1px 3px 1px rgba(0, 0, 0, 0.15);\n",
              "      filter: drop-shadow(0px 1px 2px rgba(0, 0, 0, 0.3));\n",
              "      fill: #FFFFFF;\n",
              "    }\n",
              "  </style>\n",
              "\n",
              "      <script>\n",
              "        const buttonEl =\n",
              "          document.querySelector('#df-3d3c3566-3719-4874-a926-d3ff4e1bbab1 button.colab-df-convert');\n",
              "        buttonEl.style.display =\n",
              "          google.colab.kernel.accessAllowed ? 'block' : 'none';\n",
              "\n",
              "        async function convertToInteractive(key) {\n",
              "          const element = document.querySelector('#df-3d3c3566-3719-4874-a926-d3ff4e1bbab1');\n",
              "          const dataTable =\n",
              "            await google.colab.kernel.invokeFunction('convertToInteractive',\n",
              "                                                     [key], {});\n",
              "          if (!dataTable) return;\n",
              "\n",
              "          const docLinkHtml = 'Like what you see? Visit the ' +\n",
              "            '<a target=\"_blank\" href=https://colab.research.google.com/notebooks/data_table.ipynb>data table notebook</a>'\n",
              "            + ' to learn more about interactive tables.';\n",
              "          element.innerHTML = '';\n",
              "          dataTable['output_type'] = 'display_data';\n",
              "          await google.colab.output.renderOutput(dataTable, element);\n",
              "          const docLink = document.createElement('div');\n",
              "          docLink.innerHTML = docLinkHtml;\n",
              "          element.appendChild(docLink);\n",
              "        }\n",
              "      </script>\n",
              "    </div>\n",
              "  </div>\n",
              "  "
            ]
          },
          "metadata": {},
          "execution_count": 50
        }
      ],
      "source": [
        "#Dropping all columns we won't use in our model\n",
        "#all but these 'site' 'total_debt' 'installment_value' 'total_bills' and the dummy variables of 'connection_status' 'disconnection_executed'\n",
        "df4 = df4[['site','total_debt','installment_value','total_bills',\n",
        "           'connection_status_connected','connection_status_disconnected', \n",
        "           'disconnection_executed_branch', 'disconnection_executed_circuit_break', 'disconnection_executed_pole', 'disconnection_requested_remote','collected']]\n",
        "df4.head(2)"
      ]
    },
    {
      "cell_type": "code",
      "execution_count": 51,
      "metadata": {
        "colab": {
          "base_uri": "https://localhost:8080/",
          "height": 0
        },
        "id": "1XF5GtUAND7P",
        "outputId": "811013d4-ac21-4650-be2a-ca1ae8dfe0dd"
      },
      "outputs": [
        {
          "output_type": "execute_result",
          "data": {
            "text/plain": [
              "       site  total_debt  installment_value  total_bills  \\\n",
              "0  0.065421    0.093087           0.098421     0.214286   \n",
              "\n",
              "   connection_status_connected  connection_status_disconnected  \\\n",
              "0                          0.0                             1.0   \n",
              "\n",
              "   disconnection_executed_branch  disconnection_executed_circuit_break  \\\n",
              "0                            0.0                                   1.0   \n",
              "\n",
              "   disconnection_executed_pole  disconnection_requested_remote  collected  \n",
              "0                          0.0                             0.0        0.0  "
            ],
            "text/html": [
              "\n",
              "  <div id=\"df-8c0f3d2d-20db-4107-a151-07c9216256f2\">\n",
              "    <div class=\"colab-df-container\">\n",
              "      <div>\n",
              "<style scoped>\n",
              "    .dataframe tbody tr th:only-of-type {\n",
              "        vertical-align: middle;\n",
              "    }\n",
              "\n",
              "    .dataframe tbody tr th {\n",
              "        vertical-align: top;\n",
              "    }\n",
              "\n",
              "    .dataframe thead th {\n",
              "        text-align: right;\n",
              "    }\n",
              "</style>\n",
              "<table border=\"1\" class=\"dataframe\">\n",
              "  <thead>\n",
              "    <tr style=\"text-align: right;\">\n",
              "      <th></th>\n",
              "      <th>site</th>\n",
              "      <th>total_debt</th>\n",
              "      <th>installment_value</th>\n",
              "      <th>total_bills</th>\n",
              "      <th>connection_status_connected</th>\n",
              "      <th>connection_status_disconnected</th>\n",
              "      <th>disconnection_executed_branch</th>\n",
              "      <th>disconnection_executed_circuit_break</th>\n",
              "      <th>disconnection_executed_pole</th>\n",
              "      <th>disconnection_requested_remote</th>\n",
              "      <th>collected</th>\n",
              "    </tr>\n",
              "  </thead>\n",
              "  <tbody>\n",
              "    <tr>\n",
              "      <th>0</th>\n",
              "      <td>0.065421</td>\n",
              "      <td>0.093087</td>\n",
              "      <td>0.098421</td>\n",
              "      <td>0.214286</td>\n",
              "      <td>0.0</td>\n",
              "      <td>1.0</td>\n",
              "      <td>0.0</td>\n",
              "      <td>1.0</td>\n",
              "      <td>0.0</td>\n",
              "      <td>0.0</td>\n",
              "      <td>0.0</td>\n",
              "    </tr>\n",
              "  </tbody>\n",
              "</table>\n",
              "</div>\n",
              "      <button class=\"colab-df-convert\" onclick=\"convertToInteractive('df-8c0f3d2d-20db-4107-a151-07c9216256f2')\"\n",
              "              title=\"Convert this dataframe to an interactive table.\"\n",
              "              style=\"display:none;\">\n",
              "        \n",
              "  <svg xmlns=\"http://www.w3.org/2000/svg\" height=\"24px\"viewBox=\"0 0 24 24\"\n",
              "       width=\"24px\">\n",
              "    <path d=\"M0 0h24v24H0V0z\" fill=\"none\"/>\n",
              "    <path d=\"M18.56 5.44l.94 2.06.94-2.06 2.06-.94-2.06-.94-.94-2.06-.94 2.06-2.06.94zm-11 1L8.5 8.5l.94-2.06 2.06-.94-2.06-.94L8.5 2.5l-.94 2.06-2.06.94zm10 10l.94 2.06.94-2.06 2.06-.94-2.06-.94-.94-2.06-.94 2.06-2.06.94z\"/><path d=\"M17.41 7.96l-1.37-1.37c-.4-.4-.92-.59-1.43-.59-.52 0-1.04.2-1.43.59L10.3 9.45l-7.72 7.72c-.78.78-.78 2.05 0 2.83L4 21.41c.39.39.9.59 1.41.59.51 0 1.02-.2 1.41-.59l7.78-7.78 2.81-2.81c.8-.78.8-2.07 0-2.86zM5.41 20L4 18.59l7.72-7.72 1.47 1.35L5.41 20z\"/>\n",
              "  </svg>\n",
              "      </button>\n",
              "      \n",
              "  <style>\n",
              "    .colab-df-container {\n",
              "      display:flex;\n",
              "      flex-wrap:wrap;\n",
              "      gap: 12px;\n",
              "    }\n",
              "\n",
              "    .colab-df-convert {\n",
              "      background-color: #E8F0FE;\n",
              "      border: none;\n",
              "      border-radius: 50%;\n",
              "      cursor: pointer;\n",
              "      display: none;\n",
              "      fill: #1967D2;\n",
              "      height: 32px;\n",
              "      padding: 0 0 0 0;\n",
              "      width: 32px;\n",
              "    }\n",
              "\n",
              "    .colab-df-convert:hover {\n",
              "      background-color: #E2EBFA;\n",
              "      box-shadow: 0px 1px 2px rgba(60, 64, 67, 0.3), 0px 1px 3px 1px rgba(60, 64, 67, 0.15);\n",
              "      fill: #174EA6;\n",
              "    }\n",
              "\n",
              "    [theme=dark] .colab-df-convert {\n",
              "      background-color: #3B4455;\n",
              "      fill: #D2E3FC;\n",
              "    }\n",
              "\n",
              "    [theme=dark] .colab-df-convert:hover {\n",
              "      background-color: #434B5C;\n",
              "      box-shadow: 0px 1px 3px 1px rgba(0, 0, 0, 0.15);\n",
              "      filter: drop-shadow(0px 1px 2px rgba(0, 0, 0, 0.3));\n",
              "      fill: #FFFFFF;\n",
              "    }\n",
              "  </style>\n",
              "\n",
              "      <script>\n",
              "        const buttonEl =\n",
              "          document.querySelector('#df-8c0f3d2d-20db-4107-a151-07c9216256f2 button.colab-df-convert');\n",
              "        buttonEl.style.display =\n",
              "          google.colab.kernel.accessAllowed ? 'block' : 'none';\n",
              "\n",
              "        async function convertToInteractive(key) {\n",
              "          const element = document.querySelector('#df-8c0f3d2d-20db-4107-a151-07c9216256f2');\n",
              "          const dataTable =\n",
              "            await google.colab.kernel.invokeFunction('convertToInteractive',\n",
              "                                                     [key], {});\n",
              "          if (!dataTable) return;\n",
              "\n",
              "          const docLinkHtml = 'Like what you see? Visit the ' +\n",
              "            '<a target=\"_blank\" href=https://colab.research.google.com/notebooks/data_table.ipynb>data table notebook</a>'\n",
              "            + ' to learn more about interactive tables.';\n",
              "          element.innerHTML = '';\n",
              "          dataTable['output_type'] = 'display_data';\n",
              "          await google.colab.output.renderOutput(dataTable, element);\n",
              "          const docLink = document.createElement('div');\n",
              "          docLink.innerHTML = docLinkHtml;\n",
              "          element.appendChild(docLink);\n",
              "        }\n",
              "      </script>\n",
              "    </div>\n",
              "  </div>\n",
              "  "
            ]
          },
          "metadata": {},
          "execution_count": 51
        }
      ],
      "source": [
        "#Normalizing columns \n",
        "df5 = df4.copy()\n",
        "scaler = MinMaxScaler()\n",
        "scaled = scaler.fit_transform(df5)\n",
        "#unscaled = scaler.inverse_transform(scaled) use this to 'unnormalize'\n",
        "\n",
        "#create new dataframe\n",
        "df5 = pd.DataFrame(scaled)\n",
        "\n",
        "#rename columns based on the last dataframe\n",
        "df5.columns=df4.columns.values \n",
        "\n",
        "df5.head(1)"
      ]
    },
    {
      "cell_type": "markdown",
      "metadata": {
        "id": "nD742UvegrY_"
      },
      "source": [
        "#2 - Model development and evaluation"
      ]
    },
    {
      "cell_type": "markdown",
      "metadata": {
        "id": "dtoY9-ojgxOy"
      },
      "source": [
        "##A. Model selection"
      ]
    },
    {
      "cell_type": "markdown",
      "metadata": {
        "id": "47LqhL-zg4o6"
      },
      "source": [
        "###A1. How do you select a Machine Learning model for this task? What kind of variable are you predicting? Select at least 3 different models."
      ]
    },
    {
      "cell_type": "code",
      "execution_count": null,
      "metadata": {
        "id": "aFBeHQt7hAL1"
      },
      "outputs": [],
      "source": [
        "#This is a classification problem e.g. we're trying to guess the outcome of the binnary variable 'collected' (0 or 1) based on the input values: \n",
        "#'site' 'total_debt' 'installment_value' 'total_bills' and the dummy variables of 'connection_status' 'disconnection_executed'\n",
        "\n",
        "#In order to achieve this goal, we need to use a model that is specialized in this task. Considering that this problem isn't very complex, we're going to use\n",
        "#classic machine learning models because they are less computational expensive. Going for neural networks or deep neural networks would add unnecessary complexity to this problem.\n",
        "\n",
        "#To solve this problem we'll use 3 of the most common models for classification problems: Decision Tree, Random Forest and XGBoost (I Also tried using SVM\n",
        "#but after 6 hours of runtime trying to find the best hyperparameters I canceled the cell execution and moved on)"
      ]
    },
    {
      "cell_type": "markdown",
      "metadata": {
        "id": "87MK7UBdhAki"
      },
      "source": [
        "###A2. What are the best hyperparameters for these models? Implement a hyperparameters tuning algorithm."
      ]
    },
    {
      "cell_type": "code",
      "execution_count": 52,
      "metadata": {
        "id": "3reXkaSHeUns"
      },
      "outputs": [],
      "source": [
        "#Splitting the data set into training and testing and getting the data stratified to make sure we won't get imbalanced splits\n",
        "x = df5[['site','total_debt','installment_value','total_bills',\n",
        "         'connection_status_connected','connection_status_disconnected', \n",
        "         'disconnection_executed_branch', 'disconnection_executed_circuit_break', \n",
        "         'disconnection_executed_pole', 'disconnection_requested_remote']]\n",
        "\n",
        "y = df5['collected']\n",
        "\n",
        "x_train, x_test, y_train, y_test = train_test_split(x, y, test_size=0.33, random_state=4, stratify=y)"
      ]
    },
    {
      "cell_type": "code",
      "execution_count": null,
      "metadata": {
        "colab": {
          "base_uri": "https://localhost:8080/"
        },
        "id": "6baE4bjhhGNb",
        "outputId": "227d57ee-d48c-432c-c763-266b54344b13"
      },
      "outputs": [
        {
          "name": "stdout",
          "output_type": "stream",
          "text": [
            "Fitting 5 folds for each of 50 candidates, totalling 250 fits\n",
            "Best Score:  92.39809718582251\n",
            "Best Params:  {'min_samples_leaf': 100, 'max_depth': 10, 'criterion': 'entropy'}\n"
          ]
        }
      ],
      "source": [
        "#using the sklearn library we can implement a random search for the best hyperparameters. Sklearn also has GridSearchCV which searchs for the best possible results, but as this\n",
        "#takes a very long time, we'll stick to a random search (2.84 minutes runtime CPU)\n",
        "#Decision Tree\n",
        "\n",
        "dt = DecisionTreeClassifier(random_state=42)\n",
        "\n",
        "parameters_dt = {\n",
        "    'max_depth': [2, 3, 5, 10, 20],\n",
        "    'min_samples_leaf': [5, 10, 20, 50, 100],\n",
        "    'criterion': [\"gini\", \"entropy\"]}\n",
        "\n",
        "random_search = RandomizedSearchCV(estimator = dt, param_distributions=parameters_dt, verbose=1, n_jobs=-1,\n",
        "                            n_iter=50)\n",
        "random_result = random_search.fit(x_train, y_train)\n",
        "print('Best Score: ', random_result.best_score_*100)\n",
        "print('Best Params: ', random_result.best_params_)\n",
        "\n",
        "#This cell took 2.84 minutes of runtime\n",
        "#Best Score:  92.39809718582251\n",
        "#Best Params:  {'min_samples_leaf': 100, 'max_depth': 10, 'criterion': 'entropy'}\n"
      ]
    },
    {
      "cell_type": "code",
      "execution_count": null,
      "metadata": {
        "colab": {
          "base_uri": "https://localhost:8080/"
        },
        "id": "yYLBn6s1hG30",
        "outputId": "d4afa68b-7cbf-4f8f-e6ab-86b4b117eb85"
      },
      "outputs": [
        {
          "name": "stdout",
          "output_type": "stream",
          "text": [
            "Fitting 5 folds for each of 10 candidates, totalling 50 fits\n"
          ]
        },
        {
          "name": "stderr",
          "output_type": "stream",
          "text": [
            "/usr/local/lib/python3.7/dist-packages/joblib/externals/loky/process_executor.py:705: UserWarning: A worker stopped while some jobs were given to the executor. This can be caused by a too short worker timeout or by a memory leak.\n",
            "  \"timeout or by a memory leak.\", UserWarning\n"
          ]
        },
        {
          "name": "stdout",
          "output_type": "stream",
          "text": [
            "Best Score:  92.51030234613425\n",
            "Best Params:  {'n_estimators': 400, 'min_samples_split': 10, 'min_samples_leaf': 5, 'max_features': 0.3, 'max_depth': 30, 'criterion': 'gini'}\n"
          ]
        }
      ],
      "source": [
        "#Random Forest\n",
        "\n",
        "rf = RandomForestClassifier(random_state=42)\n",
        "\n",
        "\n",
        "parameters_rf ={'max_depth': [10, 20, 30],\n",
        "     'criterion' : ['gini', 'entropy'],\n",
        "     'max_features': [0.3,0.5,0.7],\n",
        "     'min_samples_leaf': [5,10,15],\n",
        "     'min_samples_split': [2,5,10],\n",
        "     'n_estimators': [200,400,600]}\n",
        "\n",
        "random_search = RandomizedSearchCV(estimator = rf, param_distributions=parameters_rf, verbose=1, n_jobs=-1,\n",
        "                            n_iter=10)\n",
        "random_result = random_search.fit(x_train, y_train)\n",
        "print('Best Score: ', random_result.best_score_*100)\n",
        "print('Best Params: ', random_result.best_params_)\n",
        "\n",
        "#This cell took 2.4 hours of runtime\n",
        "#Best Score:  92.51030234613425\n",
        "#Best Params:  {'n_estimators': 400, 'min_samples_split': 10, 'min_samples_leaf': 5, 'max_features': 0.3, 'max_depth': 30, 'criterion': 'gini'}"
      ]
    },
    {
      "cell_type": "code",
      "execution_count": null,
      "metadata": {
        "colab": {
          "base_uri": "https://localhost:8080/"
        },
        "id": "h7GDW1tJhGhn",
        "outputId": "7e1c5b42-4b8a-4867-c5c9-c446594a5e1d"
      },
      "outputs": [
        {
          "name": "stdout",
          "output_type": "stream",
          "text": [
            "Fitting 5 folds for each of 10 candidates, totalling 50 fits\n",
            "Best Score:  92.52900329292275\n",
            "Best Params:  {'min_child_weight': 3, 'max_depth': 15, 'learning_rate': 0.1, 'gamma': 0.2, 'colsample_bytree': 0.4}\n"
          ]
        }
      ],
      "source": [
        "#XGBoost\n",
        "\n",
        "XGB = xgboost.XGBClassifier(random_state=42)\n",
        "\n",
        "parameters_XGB = {'learning_rate' : [0.10,0.15,0.20],\n",
        " 'max_depth' : [5, 10, 15],\n",
        " 'min_child_weight' : [3, 5, 7],\n",
        " 'gamma' : [0.0, 0.1, 0.2],\n",
        " 'colsample_bytree' : [0.3, 0.4, 0.5]\n",
        "}\n",
        "\n",
        "random_search = RandomizedSearchCV(estimator = XGB, param_distributions=parameters_XGB, verbose=3, n_jobs=-1,\n",
        "                            n_iter=10)\n",
        "random_result = random_search.fit(x_train, y_train)\n",
        "print('Best Score: ', random_result.best_score_*100)\n",
        "print('Best Params: ', random_result.best_params_)\n",
        "\n",
        "#This cell took 26 minutes of runtime\n",
        "#Best Score:  92.52900329292275\n",
        "#Best Params:  {'min_child_weight': 3, 'max_depth': 15, 'learning_rate': 0.1, 'gamma': 0.2, 'colsample_bytree': 0.4}"
      ]
    },
    {
      "cell_type": "markdown",
      "metadata": {
        "id": "oKmhAOM1hH3O"
      },
      "source": [
        "###A3. Create train-test splits for your data and implement a cross validation methodology for later evaluation."
      ]
    },
    {
      "cell_type": "code",
      "execution_count": null,
      "metadata": {
        "id": "1UZQ8p-ShLxf"
      },
      "outputs": [],
      "source": [
        "#The code below is commented because train-test split has been done in the previous item, it had to be done in order to predict the best hyperparameters of each model and to avoid\n",
        "#data leakage. Here we split the data and also used the HoldOut Cross-validation where we split data into two parts in order to the model to be evaluted on unseen data.\n",
        "\n",
        "#Splitting the data set into training and testing and getting the data stratified to make sure we won't get imbalanced splits\n",
        "#x = df5[['site','total_debt','installment_value','total_bills',\n",
        "#         'connection_status_connected','connection_status_disconnected', \n",
        "#         'disconnection_executed_branch', 'disconnection_executed_circuit_break', \n",
        "#         'disconnection_executed_pole', 'disconnection_requested_remote']]\n",
        "#y = df5['collected']\n",
        "#x_train, x_test, y_train, y_test = train_test_split(x, y, test_size=0.33, random_state=4, stratify=y)"
      ]
    },
    {
      "cell_type": "markdown",
      "metadata": {
        "id": "QHmmViC5hUJo"
      },
      "source": [
        "##B. Model evaluation"
      ]
    },
    {
      "cell_type": "markdown",
      "metadata": {
        "id": "hNF3A7LzhW3b"
      },
      "source": [
        "###B1. Which metrics can be used to evaluate the models’ performance?  Select at least 4 and explain their meaning briefly. Select the most appropriate one for model comparison."
      ]
    },
    {
      "cell_type": "code",
      "execution_count": 53,
      "metadata": {
        "id": "xTDUp1Rwhhdj"
      },
      "outputs": [],
      "source": [
        "#Confusion Matrix\n",
        "\n",
        "#A confusion matrix is a matrix representation of the prediction results of any binary testing that is often used to describe the performance of the classification model \n",
        "#on a set of test data for which the true values are known.\n",
        "\n",
        "#Each prediction can be one of the four outcomes, based on how it matches up to the actual value:\n",
        "#True Positive (TP): Predicted True and True in reality.\n",
        "#True Negative (TN): Predicted False and False in reality.\n",
        "#False Positive (FP): Predicted True and False in reality.\n",
        "#False Negative (FN): Predicted False and True in reality.\n",
        "\n",
        "#The diagonal elements represent the number of points for which the predicted label is equal to the true label, while anything off the diagonal was mislabeled by the classifier. \n",
        "#Therefore, the higher the diagonal values of the confusion matrix the better, indicating many correct predictions.\n"
      ]
    },
    {
      "cell_type": "code",
      "execution_count": 54,
      "metadata": {
        "id": "6ARK0xuyhhYg"
      },
      "outputs": [],
      "source": [
        "#Accuracy\n",
        "\n",
        "#Accuracy is a common evaluation metric for classification problems. It’s the number of correct predictions made as a ratio of all predictions made.\n",
        "#It gives us how often the classification is correct. Often used when the classses are balanced.\n",
        "\n",
        "#Acc = (TP+TN) / total"
      ]
    },
    {
      "cell_type": "code",
      "execution_count": 55,
      "metadata": {
        "id": "N1du1xZahhRp"
      },
      "outputs": [],
      "source": [
        "#Precision\n",
        "\n",
        "#Precision is mainly used when we have imbalanced classes. For example, if we had a 99/1 split between two classes, A and B, where the rare event, \n",
        "#B, is our positive class, we could build a model that was 99% accurate by just saying everything belonged to class A.\n",
        "#Basically what precision does is analyse when it predicts yes, how often it is correct.\n",
        "\n",
        "#Precision= TP / predicted yes\n"
      ]
    },
    {
      "cell_type": "code",
      "execution_count": 56,
      "metadata": {
        "id": "9MrNl4qMtj-w"
      },
      "outputs": [],
      "source": [
        "#Recall\n",
        "\n",
        "#Recall gives us the true positive rate (TPR), which is the ratio of true positives to everything positive. Similarly to precision it is used when the classes are imbalanced.\n",
        "\n",
        "#TPR = TP / actual yes"
      ]
    },
    {
      "cell_type": "code",
      "execution_count": 57,
      "metadata": {
        "id": "UIb-GYvnt-V9"
      },
      "outputs": [],
      "source": [
        "#For this exercise, considering we have a balanced class, we're going to use Accuracy as the Evaluation Metric."
      ]
    },
    {
      "cell_type": "markdown",
      "metadata": {
        "id": "Cv2Oc18vhjJ4"
      },
      "source": [
        "###B2. Based on the cross validation in the training set, which model was more accurate?"
      ]
    },
    {
      "cell_type": "code",
      "source": [
        "#we did this on A2, while searching best of hyperparameters for these models. The results were:\n",
        "\n",
        "#Decision Tree\n",
        "#Best Score:  92.40%\n",
        "#Best Params:  {'min_samples_leaf': 100, 'max_depth': 10, 'criterion': 'entropy'}\n",
        "\n",
        "#Random Forest\n",
        "#Best Score:  92.51%\n",
        "#Best Params:  {'n_estimators': 400, 'min_samples_split': 10, 'min_samples_leaf': 5, 'max_features': 0.3, 'max_depth': 30, 'criterion': 'gini'}\n",
        "\n",
        "#XGBoost\n",
        "#Best Score:  92.53%\n",
        "#Best Params:  {'min_child_weight': 3, 'max_depth': 15, 'learning_rate': 0.1, 'gamma': 0.2, 'colsample_bytree': 0.4}"
      ],
      "metadata": {
        "id": "LfqWvbUGKKet"
      },
      "execution_count": 58,
      "outputs": []
    },
    {
      "cell_type": "markdown",
      "metadata": {
        "id": "6_9HXX06huVD"
      },
      "source": [
        "###B3. Generate predictions for the test split for the best model. Join your predictions with the original info and save a file named “[CANDIDATE_NAME]_PREDICTIONS.CSV”. How much is the success rate for this set?"
      ]
    },
    {
      "cell_type": "code",
      "execution_count": 59,
      "metadata": {
        "id": "_Z3f4Xhuh0rl",
        "colab": {
          "base_uri": "https://localhost:8080/"
        },
        "outputId": "2bfd4998-9fdd-46aa-9175-4077f2c7a217"
      },
      "outputs": [
        {
          "output_type": "stream",
          "name": "stdout",
          "text": [
            "Accuracy of the Decision Tree model: 92.34 %\n",
            "Accuracy of the Random Forest model: 92.48 %\n",
            "Accuracy of the XGBoost model: 92.53 %\n"
          ]
        }
      ],
      "source": [
        "#Training each model with the best hyperparameters found and evaluating it's performance on the test data\n",
        "\n",
        "#Decision Tree - min_samples_leaf': 100, 'max_depth': 10, 'criterion': 'entropy'\n",
        "modelDT = DecisionTreeClassifier(min_samples_leaf=100, max_depth=10, criterion='entropy', random_state=42)\n",
        "modelDT.fit(x_train, y_train)\n",
        "\n",
        "y_pred_DT = modelDT.predict(x_test)\n",
        "\n",
        "#Random Forest - 'n_estimators': 400, 'min_samples_split': 10, 'min_samples_leaf': 5, 'max_features': 0.3, 'max_depth': 30, 'criterion': 'gini'\n",
        "modelRF = RandomForestClassifier(n_estimators=400, min_samples_split=10, min_samples_leaf=5, max_features=0.3, max_depth=30, criterion='gini', random_state=42)\n",
        "modelRF.fit(x_train, y_train)\n",
        "\n",
        "y_pred_RF = modelRF.predict(x_test)\n",
        "\n",
        "#XGBoost - 'min_child_weight': 3, 'max_depth': 15, 'learning_rate': 0.1, 'gamma': 0.2, 'colsample_bytree': 0.4\n",
        "modelXGB = xgboost.XGBClassifier(min_child_weight=3, max_depth=15, learning_rate=0.1, gamma=0.2, colsample_bytree=0.4, random_state=42)\n",
        "modelXGB.fit(x_train, y_train)\n",
        "\n",
        "y_pred_XGB = modelXGB.predict(x_test)\n",
        "\n",
        "\n",
        "print(\"Accuracy of the Decision Tree model:\", format(metrics.accuracy_score(y_test, y_pred_DT)*100,\".2f\"), \"%\")\n",
        "print(\"Accuracy of the Random Forest model:\", format(metrics.accuracy_score(y_test, y_pred_RF)*100,\".2f\"), \"%\")\n",
        "print(\"Accuracy of the XGBoost model:\", format(metrics.accuracy_score(y_test, y_pred_XGB)*100,\".2f\"), \"%\")"
      ]
    },
    {
      "cell_type": "code",
      "execution_count": 60,
      "metadata": {
        "id": "fwA4GOoPh0gq",
        "colab": {
          "base_uri": "https://localhost:8080/",
          "height": 0
        },
        "outputId": "d5622e04-5ec2-4bff-bf0a-8b4f095fffd7"
      },
      "outputs": [
        {
          "output_type": "display_data",
          "data": {
            "text/plain": [
              "<Figure size 432x288 with 2 Axes>"
            ],
            "image/png": "[encoded data removed]"
          },
          "metadata": {
            "needs_background": "light"
          }
        }
      ],
      "source": [
        "#plotting a confusion matrix for each model just to make sure the accuracy of the models make sense and are not being biased\n",
        "cf_matrix_DT = confusion_matrix(y_test, y_pred_DT) \n",
        "\n",
        "ax = sns.heatmap(cf_matrix_DT/np.sum(cf_matrix_DT), annot=True, \n",
        "            fmt='.2%', cmap='Blues')\n",
        "\n",
        "ax.set_title('Confusion Matrix for Decision Tree\\n');\n",
        "ax.set_xlabel('\\nPredicted Values')\n",
        "ax.set_ylabel('Actual Values ');\n",
        "\n",
        "## Ticket labels - List must be in alphabetical order\n",
        "ax.xaxis.set_ticklabels(['False','True'])\n",
        "ax.yaxis.set_ticklabels(['False','True'])\n",
        "\n",
        "## Display the visualization of the Confusion Matrix.\n",
        "plt.show()"
      ]
    },
    {
      "cell_type": "code",
      "execution_count": 61,
      "metadata": {
        "id": "y7Y93Rcwh0eQ",
        "colab": {
          "base_uri": "https://localhost:8080/",
          "height": 0
        },
        "outputId": "bc06cdd6-7220-45fb-a5ee-9b37d89b971e"
      },
      "outputs": [
        {
          "output_type": "display_data",
          "data": {
            "text/plain": [
              "<Figure size 432x288 with 2 Axes>"
            ],
            "image/png": "[encoded data removed]"
          },
          "metadata": {
            "needs_background": "light"
          }
        }
      ],
      "source": [
        "cf_matrix_RF = confusion_matrix(y_test, y_pred_RF) \n",
        "\n",
        "ax = sns.heatmap(cf_matrix_RF/np.sum(cf_matrix_RF), annot=True, \n",
        "            fmt='.2%', cmap='Blues')\n",
        "\n",
        "ax.set_title('Confusion Matrix for Random Forest\\n');\n",
        "ax.set_xlabel('\\nPredicted Values')\n",
        "ax.set_ylabel('Actual Values ');\n",
        "\n",
        "## Ticket labels - List must be in alphabetical order\n",
        "ax.xaxis.set_ticklabels(['False','True'])\n",
        "ax.yaxis.set_ticklabels(['False','True'])\n",
        "\n",
        "## Display the visualization of the Confusion Matrix.\n",
        "plt.show()"
      ]
    },
    {
      "cell_type": "code",
      "source": [
        "cf_matrix_XGB = confusion_matrix(y_test, y_pred_XGB) \n",
        "\n",
        "ax = sns.heatmap(cf_matrix_XGB/np.sum(cf_matrix_XGB), annot=True, \n",
        "            fmt='.2%', cmap='Blues')\n",
        "\n",
        "ax.set_title('Confusion Matrix for XGBoost\\n');\n",
        "ax.set_xlabel('\\nPredicted Values')\n",
        "ax.set_ylabel('Actual Values ');\n",
        "\n",
        "## Ticket labels - List must be in alphabetical order\n",
        "ax.xaxis.set_ticklabels(['False','True'])\n",
        "ax.yaxis.set_ticklabels(['False','True'])\n",
        "\n",
        "## Display the visualization of the Confusion Matrix.\n",
        "plt.show()"
      ],
      "metadata": {
        "colab": {
          "base_uri": "https://localhost:8080/",
          "height": 0
        },
        "id": "NeqOVlWoJ6tA",
        "outputId": "3e00e546-c27e-43aa-e01b-06248d4d7753"
      },
      "execution_count": 62,
      "outputs": [
        {
          "output_type": "display_data",
          "data": {
            "text/plain": [
              "<Figure size 432x288 with 2 Axes>"
            ],
            "image/png": "[encoded data removed]"
          },
          "metadata": {
            "needs_background": "light"
          }
        }
      ]
    },
    {
      "cell_type": "code",
      "source": [
        "#The model with the best accuracy was the XGBoost model, it had 92,53% accuracy, slightly higher than random forest but with significantly less runtime.\n",
        "#Judging by the confusion matrix, the improvement that XGBoost provides from random forest come from true negatives, increasing the sucess prediction \n",
        "#by 0,05% while decreasing the true positives by 0,01%. In this case we're only interested on the best accuracy so this doesn't matter much. On the other hand,\n",
        "#if we were predicting possible cancer patients we would have to assess if this increment would make sense."
      ],
      "metadata": {
        "id": "NGanZPBOJ6q9"
      },
      "execution_count": 63,
      "outputs": []
    },
    {
      "cell_type": "code",
      "source": [
        "#The documentation wasn't clear if it was needed to create predictions for the whole dataset or only for the test data before exporting to a csv.\n",
        "#Here I made predictions only for the test dataset, but this can easily manipulated to be done to everything."
      ],
      "metadata": {
        "id": "BeaNaSuDTR2i"
      },
      "execution_count": 64,
      "outputs": []
    },
    {
      "cell_type": "code",
      "source": [
        "#creating a dataframe with the predictions\n",
        "df_y_pred = pd.DataFrame(y_pred_XGB, columns =['collected (prediction)'])"
      ],
      "metadata": {
        "id": "EbwYVvkkK_Q6"
      },
      "execution_count": 65,
      "outputs": []
    },
    {
      "cell_type": "code",
      "source": [
        "#joining with the test data\n",
        "result = pd.concat([x_test, y_test], axis=1)\n",
        "result = result.reset_index(drop=True)\n",
        "prediction_result = pd.concat([result,df_y_pred], axis=1)"
      ],
      "metadata": {
        "id": "_72P4iotMwEn"
      },
      "execution_count": 66,
      "outputs": []
    },
    {
      "cell_type": "code",
      "source": [
        "prediction_result.head(5)"
      ],
      "metadata": {
        "colab": {
          "base_uri": "https://localhost:8080/",
          "height": 0
        },
        "id": "ZQ57o-cTR0c9",
        "outputId": "493f0b71-c83b-48bb-b0b9-b5c806716bf4"
      },
      "execution_count": 67,
      "outputs": [
        {
          "output_type": "execute_result",
          "data": {
            "text/plain": [
              "       site  total_debt  installment_value  total_bills  \\\n",
              "0  0.945483    0.011778                0.0     0.000000   \n",
              "1  0.000875    0.055586                0.0     0.000000   \n",
              "2  0.000583    0.249139                0.0     0.714286   \n",
              "3  0.287222    0.050508                0.0     0.000000   \n",
              "4  0.321973    0.006124                0.0     0.000000   \n",
              "\n",
              "   connection_status_connected  connection_status_disconnected  \\\n",
              "0                          1.0                             0.0   \n",
              "1                          1.0                             0.0   \n",
              "2                          1.0                             0.0   \n",
              "3                          1.0                             0.0   \n",
              "4                          0.0                             1.0   \n",
              "\n",
              "   disconnection_executed_branch  disconnection_executed_circuit_break  \\\n",
              "0                            0.0                                   0.0   \n",
              "1                            0.0                                   1.0   \n",
              "2                            0.0                                   1.0   \n",
              "3                            0.0                                   0.0   \n",
              "4                            0.0                                   0.0   \n",
              "\n",
              "   disconnection_executed_pole  disconnection_requested_remote  collected  \\\n",
              "0                          1.0                             0.0        1.0   \n",
              "1                          0.0                             0.0        1.0   \n",
              "2                          0.0                             0.0        1.0   \n",
              "3                          0.0                             1.0        1.0   \n",
              "4                          0.0                             1.0        0.0   \n",
              "\n",
              "   collected (prediction)  \n",
              "0                     1.0  \n",
              "1                     1.0  \n",
              "2                     0.0  \n",
              "3                     1.0  \n",
              "4                     0.0  "
            ],
            "text/html": [
              "\n",
              "  <div id=\"df-50255d87-f67f-43f8-b40c-7b67abfdb6fb\">\n",
              "    <div class=\"colab-df-container\">\n",
              "      <div>\n",
              "<style scoped>\n",
              "    .dataframe tbody tr th:only-of-type {\n",
              "        vertical-align: middle;\n",
              "    }\n",
              "\n",
              "    .dataframe tbody tr th {\n",
              "        vertical-align: top;\n",
              "    }\n",
              "\n",
              "    .dataframe thead th {\n",
              "        text-align: right;\n",
              "    }\n",
              "</style>\n",
              "<table border=\"1\" class=\"dataframe\">\n",
              "  <thead>\n",
              "    <tr style=\"text-align: right;\">\n",
              "      <th></th>\n",
              "      <th>site</th>\n",
              "      <th>total_debt</th>\n",
              "      <th>installment_value</th>\n",
              "      <th>total_bills</th>\n",
              "      <th>connection_status_connected</th>\n",
              "      <th>connection_status_disconnected</th>\n",
              "      <th>disconnection_executed_branch</th>\n",
              "      <th>disconnection_executed_circuit_break</th>\n",
              "      <th>disconnection_executed_pole</th>\n",
              "      <th>disconnection_requested_remote</th>\n",
              "      <th>collected</th>\n",
              "      <th>collected (prediction)</th>\n",
              "    </tr>\n",
              "  </thead>\n",
              "  <tbody>\n",
              "    <tr>\n",
              "      <th>0</th>\n",
              "      <td>0.945483</td>\n",
              "      <td>0.011778</td>\n",
              "      <td>0.0</td>\n",
              "      <td>0.000000</td>\n",
              "      <td>1.0</td>\n",
              "      <td>0.0</td>\n",
              "      <td>0.0</td>\n",
              "      <td>0.0</td>\n",
              "      <td>1.0</td>\n",
              "      <td>0.0</td>\n",
              "      <td>1.0</td>\n",
              "      <td>1.0</td>\n",
              "    </tr>\n",
              "    <tr>\n",
              "      <th>1</th>\n",
              "      <td>0.000875</td>\n",
              "      <td>0.055586</td>\n",
              "      <td>0.0</td>\n",
              "      <td>0.000000</td>\n",
              "      <td>1.0</td>\n",
              "      <td>0.0</td>\n",
              "      <td>0.0</td>\n",
              "      <td>1.0</td>\n",
              "      <td>0.0</td>\n",
              "      <td>0.0</td>\n",
              "      <td>1.0</td>\n",
              "      <td>1.0</td>\n",
              "    </tr>\n",
              "    <tr>\n",
              "      <th>2</th>\n",
              "      <td>0.000583</td>\n",
              "      <td>0.249139</td>\n",
              "      <td>0.0</td>\n",
              "      <td>0.714286</td>\n",
              "      <td>1.0</td>\n",
              "      <td>0.0</td>\n",
              "      <td>0.0</td>\n",
              "      <td>1.0</td>\n",
              "      <td>0.0</td>\n",
              "      <td>0.0</td>\n",
              "      <td>1.0</td>\n",
              "      <td>0.0</td>\n",
              "    </tr>\n",
              "    <tr>\n",
              "      <th>3</th>\n",
              "      <td>0.287222</td>\n",
              "      <td>0.050508</td>\n",
              "      <td>0.0</td>\n",
              "      <td>0.000000</td>\n",
              "      <td>1.0</td>\n",
              "      <td>0.0</td>\n",
              "      <td>0.0</td>\n",
              "      <td>0.0</td>\n",
              "      <td>0.0</td>\n",
              "      <td>1.0</td>\n",
              "      <td>1.0</td>\n",
              "      <td>1.0</td>\n",
              "    </tr>\n",
              "    <tr>\n",
              "      <th>4</th>\n",
              "      <td>0.321973</td>\n",
              "      <td>0.006124</td>\n",
              "      <td>0.0</td>\n",
              "      <td>0.000000</td>\n",
              "      <td>0.0</td>\n",
              "      <td>1.0</td>\n",
              "      <td>0.0</td>\n",
              "      <td>0.0</td>\n",
              "      <td>0.0</td>\n",
              "      <td>1.0</td>\n",
              "      <td>0.0</td>\n",
              "      <td>0.0</td>\n",
              "    </tr>\n",
              "  </tbody>\n",
              "</table>\n",
              "</div>\n",
              "      <button class=\"colab-df-convert\" onclick=\"convertToInteractive('df-50255d87-f67f-43f8-b40c-7b67abfdb6fb')\"\n",
              "              title=\"Convert this dataframe to an interactive table.\"\n",
              "              style=\"display:none;\">\n",
              "        \n",
              "  <svg xmlns=\"http://www.w3.org/2000/svg\" height=\"24px\"viewBox=\"0 0 24 24\"\n",
              "       width=\"24px\">\n",
              "    <path d=\"M0 0h24v24H0V0z\" fill=\"none\"/>\n",
              "    <path d=\"M18.56 5.44l.94 2.06.94-2.06 2.06-.94-2.06-.94-.94-2.06-.94 2.06-2.06.94zm-11 1L8.5 8.5l.94-2.06 2.06-.94-2.06-.94L8.5 2.5l-.94 2.06-2.06.94zm10 10l.94 2.06.94-2.06 2.06-.94-2.06-.94-.94-2.06-.94 2.06-2.06.94z\"/><path d=\"M17.41 7.96l-1.37-1.37c-.4-.4-.92-.59-1.43-.59-.52 0-1.04.2-1.43.59L10.3 9.45l-7.72 7.72c-.78.78-.78 2.05 0 2.83L4 21.41c.39.39.9.59 1.41.59.51 0 1.02-.2 1.41-.59l7.78-7.78 2.81-2.81c.8-.78.8-2.07 0-2.86zM5.41 20L4 18.59l7.72-7.72 1.47 1.35L5.41 20z\"/>\n",
              "  </svg>\n",
              "      </button>\n",
              "      \n",
              "  <style>\n",
              "    .colab-df-container {\n",
              "      display:flex;\n",
              "      flex-wrap:wrap;\n",
              "      gap: 12px;\n",
              "    }\n",
              "\n",
              "    .colab-df-convert {\n",
              "      background-color: #E8F0FE;\n",
              "      border: none;\n",
              "      border-radius: 50%;\n",
              "      cursor: pointer;\n",
              "      display: none;\n",
              "      fill: #1967D2;\n",
              "      height: 32px;\n",
              "      padding: 0 0 0 0;\n",
              "      width: 32px;\n",
              "    }\n",
              "\n",
              "    .colab-df-convert:hover {\n",
              "      background-color: #E2EBFA;\n",
              "      box-shadow: 0px 1px 2px rgba(60, 64, 67, 0.3), 0px 1px 3px 1px rgba(60, 64, 67, 0.15);\n",
              "      fill: #174EA6;\n",
              "    }\n",
              "\n",
              "    [theme=dark] .colab-df-convert {\n",
              "      background-color: #3B4455;\n",
              "      fill: #D2E3FC;\n",
              "    }\n",
              "\n",
              "    [theme=dark] .colab-df-convert:hover {\n",
              "      background-color: #434B5C;\n",
              "      box-shadow: 0px 1px 3px 1px rgba(0, 0, 0, 0.15);\n",
              "      filter: drop-shadow(0px 1px 2px rgba(0, 0, 0, 0.3));\n",
              "      fill: #FFFFFF;\n",
              "    }\n",
              "  </style>\n",
              "\n",
              "      <script>\n",
              "        const buttonEl =\n",
              "          document.querySelector('#df-50255d87-f67f-43f8-b40c-7b67abfdb6fb button.colab-df-convert');\n",
              "        buttonEl.style.display =\n",
              "          google.colab.kernel.accessAllowed ? 'block' : 'none';\n",
              "\n",
              "        async function convertToInteractive(key) {\n",
              "          const element = document.querySelector('#df-50255d87-f67f-43f8-b40c-7b67abfdb6fb');\n",
              "          const dataTable =\n",
              "            await google.colab.kernel.invokeFunction('convertToInteractive',\n",
              "                                                     [key], {});\n",
              "          if (!dataTable) return;\n",
              "\n",
              "          const docLinkHtml = 'Like what you see? Visit the ' +\n",
              "            '<a target=\"_blank\" href=https://colab.research.google.com/notebooks/data_table.ipynb>data table notebook</a>'\n",
              "            + ' to learn more about interactive tables.';\n",
              "          element.innerHTML = '';\n",
              "          dataTable['output_type'] = 'display_data';\n",
              "          await google.colab.output.renderOutput(dataTable, element);\n",
              "          const docLink = document.createElement('div');\n",
              "          docLink.innerHTML = docLinkHtml;\n",
              "          element.appendChild(docLink);\n",
              "        }\n",
              "      </script>\n",
              "    </div>\n",
              "  </div>\n",
              "  "
            ]
          },
          "metadata": {},
          "execution_count": 67
        }
      ]
    },
    {
      "cell_type": "code",
      "source": [
        "prediction_result.tail(5)"
      ],
      "metadata": {
        "colab": {
          "base_uri": "https://localhost:8080/",
          "height": 0
        },
        "id": "tNO1MM-WNHAb",
        "outputId": "8ed9e829-0a03-4320-a764-1122d3e05ffc"
      },
      "execution_count": 68,
      "outputs": [
        {
          "output_type": "execute_result",
          "data": {
            "text/plain": [
              "            site  total_debt  installment_value  total_bills  \\\n",
              "221232  0.641701    0.054716           0.338426     0.000000   \n",
              "221233  0.082796    0.023369           0.000000     0.000000   \n",
              "221234  0.615463    0.036753           0.000000     0.000000   \n",
              "221235  0.886592    0.033945           0.000000     0.142857   \n",
              "221236  0.321915    0.023119           0.000000     0.000000   \n",
              "\n",
              "        connection_status_connected  connection_status_disconnected  \\\n",
              "221232                          1.0                             0.0   \n",
              "221233                          0.0                             1.0   \n",
              "221234                          1.0                             0.0   \n",
              "221235                          0.0                             1.0   \n",
              "221236                          1.0                             0.0   \n",
              "\n",
              "        disconnection_executed_branch  disconnection_executed_circuit_break  \\\n",
              "221232                            0.0                                   1.0   \n",
              "221233                            0.0                                   0.0   \n",
              "221234                            0.0                                   1.0   \n",
              "221235                            0.0                                   1.0   \n",
              "221236                            0.0                                   0.0   \n",
              "\n",
              "        disconnection_executed_pole  disconnection_requested_remote  \\\n",
              "221232                          0.0                             0.0   \n",
              "221233                          0.0                             1.0   \n",
              "221234                          0.0                             0.0   \n",
              "221235                          0.0                             0.0   \n",
              "221236                          0.0                             1.0   \n",
              "\n",
              "        collected  collected (prediction)  \n",
              "221232        1.0                     1.0  \n",
              "221233        0.0                     0.0  \n",
              "221234        1.0                     1.0  \n",
              "221235        0.0                     0.0  \n",
              "221236        0.0                     1.0  "
            ],
            "text/html": [
              "\n",
              "  <div id=\"df-7211f717-2995-4b3e-a705-42fe06f6d2cd\">\n",
              "    <div class=\"colab-df-container\">\n",
              "      <div>\n",
              "<style scoped>\n",
              "    .dataframe tbody tr th:only-of-type {\n",
              "        vertical-align: middle;\n",
              "    }\n",
              "\n",
              "    .dataframe tbody tr th {\n",
              "        vertical-align: top;\n",
              "    }\n",
              "\n",
              "    .dataframe thead th {\n",
              "        text-align: right;\n",
              "    }\n",
              "</style>\n",
              "<table border=\"1\" class=\"dataframe\">\n",
              "  <thead>\n",
              "    <tr style=\"text-align: right;\">\n",
              "      <th></th>\n",
              "      <th>site</th>\n",
              "      <th>total_debt</th>\n",
              "      <th>installment_value</th>\n",
              "      <th>total_bills</th>\n",
              "      <th>connection_status_connected</th>\n",
              "      <th>connection_status_disconnected</th>\n",
              "      <th>disconnection_executed_branch</th>\n",
              "      <th>disconnection_executed_circuit_break</th>\n",
              "      <th>disconnection_executed_pole</th>\n",
              "      <th>disconnection_requested_remote</th>\n",
              "      <th>collected</th>\n",
              "      <th>collected (prediction)</th>\n",
              "    </tr>\n",
              "  </thead>\n",
              "  <tbody>\n",
              "    <tr>\n",
              "      <th>221232</th>\n",
              "      <td>0.641701</td>\n",
              "      <td>0.054716</td>\n",
              "      <td>0.338426</td>\n",
              "      <td>0.000000</td>\n",
              "      <td>1.0</td>\n",
              "      <td>0.0</td>\n",
              "      <td>0.0</td>\n",
              "      <td>1.0</td>\n",
              "      <td>0.0</td>\n",
              "      <td>0.0</td>\n",
              "      <td>1.0</td>\n",
              "      <td>1.0</td>\n",
              "    </tr>\n",
              "    <tr>\n",
              "      <th>221233</th>\n",
              "      <td>0.082796</td>\n",
              "      <td>0.023369</td>\n",
              "      <td>0.000000</td>\n",
              "      <td>0.000000</td>\n",
              "      <td>0.0</td>\n",
              "      <td>1.0</td>\n",
              "      <td>0.0</td>\n",
              "      <td>0.0</td>\n",
              "      <td>0.0</td>\n",
              "      <td>1.0</td>\n",
              "      <td>0.0</td>\n",
              "      <td>0.0</td>\n",
              "    </tr>\n",
              "    <tr>\n",
              "      <th>221234</th>\n",
              "      <td>0.615463</td>\n",
              "      <td>0.036753</td>\n",
              "      <td>0.000000</td>\n",
              "      <td>0.000000</td>\n",
              "      <td>1.0</td>\n",
              "      <td>0.0</td>\n",
              "      <td>0.0</td>\n",
              "      <td>1.0</td>\n",
              "      <td>0.0</td>\n",
              "      <td>0.0</td>\n",
              "      <td>1.0</td>\n",
              "      <td>1.0</td>\n",
              "    </tr>\n",
              "    <tr>\n",
              "      <th>221235</th>\n",
              "      <td>0.886592</td>\n",
              "      <td>0.033945</td>\n",
              "      <td>0.000000</td>\n",
              "      <td>0.142857</td>\n",
              "      <td>0.0</td>\n",
              "      <td>1.0</td>\n",
              "      <td>0.0</td>\n",
              "      <td>1.0</td>\n",
              "      <td>0.0</td>\n",
              "      <td>0.0</td>\n",
              "      <td>0.0</td>\n",
              "      <td>0.0</td>\n",
              "    </tr>\n",
              "    <tr>\n",
              "      <th>221236</th>\n",
              "      <td>0.321915</td>\n",
              "      <td>0.023119</td>\n",
              "      <td>0.000000</td>\n",
              "      <td>0.000000</td>\n",
              "      <td>1.0</td>\n",
              "      <td>0.0</td>\n",
              "      <td>0.0</td>\n",
              "      <td>0.0</td>\n",
              "      <td>0.0</td>\n",
              "      <td>1.0</td>\n",
              "      <td>0.0</td>\n",
              "      <td>1.0</td>\n",
              "    </tr>\n",
              "  </tbody>\n",
              "</table>\n",
              "</div>\n",
              "      <button class=\"colab-df-convert\" onclick=\"convertToInteractive('df-7211f717-2995-4b3e-a705-42fe06f6d2cd')\"\n",
              "              title=\"Convert this dataframe to an interactive table.\"\n",
              "              style=\"display:none;\">\n",
              "        \n",
              "  <svg xmlns=\"http://www.w3.org/2000/svg\" height=\"24px\"viewBox=\"0 0 24 24\"\n",
              "       width=\"24px\">\n",
              "    <path d=\"M0 0h24v24H0V0z\" fill=\"none\"/>\n",
              "    <path d=\"M18.56 5.44l.94 2.06.94-2.06 2.06-.94-2.06-.94-.94-2.06-.94 2.06-2.06.94zm-11 1L8.5 8.5l.94-2.06 2.06-.94-2.06-.94L8.5 2.5l-.94 2.06-2.06.94zm10 10l.94 2.06.94-2.06 2.06-.94-2.06-.94-.94-2.06-.94 2.06-2.06.94z\"/><path d=\"M17.41 7.96l-1.37-1.37c-.4-.4-.92-.59-1.43-.59-.52 0-1.04.2-1.43.59L10.3 9.45l-7.72 7.72c-.78.78-.78 2.05 0 2.83L4 21.41c.39.39.9.59 1.41.59.51 0 1.02-.2 1.41-.59l7.78-7.78 2.81-2.81c.8-.78.8-2.07 0-2.86zM5.41 20L4 18.59l7.72-7.72 1.47 1.35L5.41 20z\"/>\n",
              "  </svg>\n",
              "      </button>\n",
              "      \n",
              "  <style>\n",
              "    .colab-df-container {\n",
              "      display:flex;\n",
              "      flex-wrap:wrap;\n",
              "      gap: 12px;\n",
              "    }\n",
              "\n",
              "    .colab-df-convert {\n",
              "      background-color: #E8F0FE;\n",
              "      border: none;\n",
              "      border-radius: 50%;\n",
              "      cursor: pointer;\n",
              "      display: none;\n",
              "      fill: #1967D2;\n",
              "      height: 32px;\n",
              "      padding: 0 0 0 0;\n",
              "      width: 32px;\n",
              "    }\n",
              "\n",
              "    .colab-df-convert:hover {\n",
              "      background-color: #E2EBFA;\n",
              "      box-shadow: 0px 1px 2px rgba(60, 64, 67, 0.3), 0px 1px 3px 1px rgba(60, 64, 67, 0.15);\n",
              "      fill: #174EA6;\n",
              "    }\n",
              "\n",
              "    [theme=dark] .colab-df-convert {\n",
              "      background-color: #3B4455;\n",
              "      fill: #D2E3FC;\n",
              "    }\n",
              "\n",
              "    [theme=dark] .colab-df-convert:hover {\n",
              "      background-color: #434B5C;\n",
              "      box-shadow: 0px 1px 3px 1px rgba(0, 0, 0, 0.15);\n",
              "      filter: drop-shadow(0px 1px 2px rgba(0, 0, 0, 0.3));\n",
              "      fill: #FFFFFF;\n",
              "    }\n",
              "  </style>\n",
              "\n",
              "      <script>\n",
              "        const buttonEl =\n",
              "          document.querySelector('#df-7211f717-2995-4b3e-a705-42fe06f6d2cd button.colab-df-convert');\n",
              "        buttonEl.style.display =\n",
              "          google.colab.kernel.accessAllowed ? 'block' : 'none';\n",
              "\n",
              "        async function convertToInteractive(key) {\n",
              "          const element = document.querySelector('#df-7211f717-2995-4b3e-a705-42fe06f6d2cd');\n",
              "          const dataTable =\n",
              "            await google.colab.kernel.invokeFunction('convertToInteractive',\n",
              "                                                     [key], {});\n",
              "          if (!dataTable) return;\n",
              "\n",
              "          const docLinkHtml = 'Like what you see? Visit the ' +\n",
              "            '<a target=\"_blank\" href=https://colab.research.google.com/notebooks/data_table.ipynb>data table notebook</a>'\n",
              "            + ' to learn more about interactive tables.';\n",
              "          element.innerHTML = '';\n",
              "          dataTable['output_type'] = 'display_data';\n",
              "          await google.colab.output.renderOutput(dataTable, element);\n",
              "          const docLink = document.createElement('div');\n",
              "          docLink.innerHTML = docLinkHtml;\n",
              "          element.appendChild(docLink);\n",
              "        }\n",
              "      </script>\n",
              "    </div>\n",
              "  </div>\n",
              "  "
            ]
          },
          "metadata": {},
          "execution_count": 68
        }
      ]
    },
    {
      "cell_type": "code",
      "source": [
        "prediction_result.to_csv('[MATEUS FURLIN BAMPI]_PREDICTIONS.csv')\n",
        "!cp prediction_result.csv '/content/drive/My Drive/Kearney'"
      ],
      "metadata": {
        "colab": {
          "base_uri": "https://localhost:8080/"
        },
        "id": "9vtE1Ik7QUX5",
        "outputId": "0570227a-556c-4c00-e676-5425d339d900"
      },
      "execution_count": 69,
      "outputs": [
        {
          "output_type": "stream",
          "name": "stdout",
          "text": [
            "cp: cannot stat 'prediction_result.csv': No such file or directory\n"
          ]
        }
      ]
    },
    {
      "cell_type": "markdown",
      "metadata": {
        "id": "fYfpF3lsh3C_"
      },
      "source": [
        "###B4. Which variables were most important for this result? Calculate any kind of feature importance metric."
      ]
    },
    {
      "cell_type": "code",
      "execution_count": 70,
      "metadata": {
        "id": "bMv6tu9Ah6kJ"
      },
      "outputs": [],
      "source": [
        "#get the name of each feature\n",
        "feature_names = list(x_train.columns)\n",
        "\n",
        "# get most important features\n",
        "importance = modelXGB.feature_importances_\n",
        "\n",
        "#saving to a list to plot later on\n",
        "importance_list = []\n",
        "for i,v in enumerate(importance):\n",
        "   importance_list.append(v)\n",
        "\n",
        "#joining both lists\n",
        "importance_df = pd.DataFrame({'feature names': feature_names, 'importance': importance_list})"
      ]
    },
    {
      "cell_type": "code",
      "source": [
        "importance_df"
      ],
      "metadata": {
        "colab": {
          "base_uri": "https://localhost:8080/",
          "height": 0
        },
        "id": "Xkblk_jFcLVE",
        "outputId": "b2be53af-3be0-4899-e7cf-4e654931abbd"
      },
      "execution_count": 71,
      "outputs": [
        {
          "output_type": "execute_result",
          "data": {
            "text/plain": [
              "                          feature names  importance\n",
              "0                                  site    0.000060\n",
              "1                            total_debt    0.000057\n",
              "2                     installment_value    0.000045\n",
              "3                           total_bills    0.000570\n",
              "4           connection_status_connected    0.570305\n",
              "5        connection_status_disconnected    0.426891\n",
              "6         disconnection_executed_branch    0.000233\n",
              "7  disconnection_executed_circuit_break    0.000105\n",
              "8           disconnection_executed_pole    0.000052\n",
              "9        disconnection_requested_remote    0.001683"
            ],
            "text/html": [
              "\n",
              "  <div id=\"df-8b81f472-f5dd-4bb8-8740-92429aaad403\">\n",
              "    <div class=\"colab-df-container\">\n",
              "      <div>\n",
              "<style scoped>\n",
              "    .dataframe tbody tr th:only-of-type {\n",
              "        vertical-align: middle;\n",
              "    }\n",
              "\n",
              "    .dataframe tbody tr th {\n",
              "        vertical-align: top;\n",
              "    }\n",
              "\n",
              "    .dataframe thead th {\n",
              "        text-align: right;\n",
              "    }\n",
              "</style>\n",
              "<table border=\"1\" class=\"dataframe\">\n",
              "  <thead>\n",
              "    <tr style=\"text-align: right;\">\n",
              "      <th></th>\n",
              "      <th>feature names</th>\n",
              "      <th>importance</th>\n",
              "    </tr>\n",
              "  </thead>\n",
              "  <tbody>\n",
              "    <tr>\n",
              "      <th>0</th>\n",
              "      <td>site</td>\n",
              "      <td>0.000060</td>\n",
              "    </tr>\n",
              "    <tr>\n",
              "      <th>1</th>\n",
              "      <td>total_debt</td>\n",
              "      <td>0.000057</td>\n",
              "    </tr>\n",
              "    <tr>\n",
              "      <th>2</th>\n",
              "      <td>installment_value</td>\n",
              "      <td>0.000045</td>\n",
              "    </tr>\n",
              "    <tr>\n",
              "      <th>3</th>\n",
              "      <td>total_bills</td>\n",
              "      <td>0.000570</td>\n",
              "    </tr>\n",
              "    <tr>\n",
              "      <th>4</th>\n",
              "      <td>connection_status_connected</td>\n",
              "      <td>0.570305</td>\n",
              "    </tr>\n",
              "    <tr>\n",
              "      <th>5</th>\n",
              "      <td>connection_status_disconnected</td>\n",
              "      <td>0.426891</td>\n",
              "    </tr>\n",
              "    <tr>\n",
              "      <th>6</th>\n",
              "      <td>disconnection_executed_branch</td>\n",
              "      <td>0.000233</td>\n",
              "    </tr>\n",
              "    <tr>\n",
              "      <th>7</th>\n",
              "      <td>disconnection_executed_circuit_break</td>\n",
              "      <td>0.000105</td>\n",
              "    </tr>\n",
              "    <tr>\n",
              "      <th>8</th>\n",
              "      <td>disconnection_executed_pole</td>\n",
              "      <td>0.000052</td>\n",
              "    </tr>\n",
              "    <tr>\n",
              "      <th>9</th>\n",
              "      <td>disconnection_requested_remote</td>\n",
              "      <td>0.001683</td>\n",
              "    </tr>\n",
              "  </tbody>\n",
              "</table>\n",
              "</div>\n",
              "      <button class=\"colab-df-convert\" onclick=\"convertToInteractive('df-8b81f472-f5dd-4bb8-8740-92429aaad403')\"\n",
              "              title=\"Convert this dataframe to an interactive table.\"\n",
              "              style=\"display:none;\">\n",
              "        \n",
              "  <svg xmlns=\"http://www.w3.org/2000/svg\" height=\"24px\"viewBox=\"0 0 24 24\"\n",
              "       width=\"24px\">\n",
              "    <path d=\"M0 0h24v24H0V0z\" fill=\"none\"/>\n",
              "    <path d=\"M18.56 5.44l.94 2.06.94-2.06 2.06-.94-2.06-.94-.94-2.06-.94 2.06-2.06.94zm-11 1L8.5 8.5l.94-2.06 2.06-.94-2.06-.94L8.5 2.5l-.94 2.06-2.06.94zm10 10l.94 2.06.94-2.06 2.06-.94-2.06-.94-.94-2.06-.94 2.06-2.06.94z\"/><path d=\"M17.41 7.96l-1.37-1.37c-.4-.4-.92-.59-1.43-.59-.52 0-1.04.2-1.43.59L10.3 9.45l-7.72 7.72c-.78.78-.78 2.05 0 2.83L4 21.41c.39.39.9.59 1.41.59.51 0 1.02-.2 1.41-.59l7.78-7.78 2.81-2.81c.8-.78.8-2.07 0-2.86zM5.41 20L4 18.59l7.72-7.72 1.47 1.35L5.41 20z\"/>\n",
              "  </svg>\n",
              "      </button>\n",
              "      \n",
              "  <style>\n",
              "    .colab-df-container {\n",
              "      display:flex;\n",
              "      flex-wrap:wrap;\n",
              "      gap: 12px;\n",
              "    }\n",
              "\n",
              "    .colab-df-convert {\n",
              "      background-color: #E8F0FE;\n",
              "      border: none;\n",
              "      border-radius: 50%;\n",
              "      cursor: pointer;\n",
              "      display: none;\n",
              "      fill: #1967D2;\n",
              "      height: 32px;\n",
              "      padding: 0 0 0 0;\n",
              "      width: 32px;\n",
              "    }\n",
              "\n",
              "    .colab-df-convert:hover {\n",
              "      background-color: #E2EBFA;\n",
              "      box-shadow: 0px 1px 2px rgba(60, 64, 67, 0.3), 0px 1px 3px 1px rgba(60, 64, 67, 0.15);\n",
              "      fill: #174EA6;\n",
              "    }\n",
              "\n",
              "    [theme=dark] .colab-df-convert {\n",
              "      background-color: #3B4455;\n",
              "      fill: #D2E3FC;\n",
              "    }\n",
              "\n",
              "    [theme=dark] .colab-df-convert:hover {\n",
              "      background-color: #434B5C;\n",
              "      box-shadow: 0px 1px 3px 1px rgba(0, 0, 0, 0.15);\n",
              "      filter: drop-shadow(0px 1px 2px rgba(0, 0, 0, 0.3));\n",
              "      fill: #FFFFFF;\n",
              "    }\n",
              "  </style>\n",
              "\n",
              "      <script>\n",
              "        const buttonEl =\n",
              "          document.querySelector('#df-8b81f472-f5dd-4bb8-8740-92429aaad403 button.colab-df-convert');\n",
              "        buttonEl.style.display =\n",
              "          google.colab.kernel.accessAllowed ? 'block' : 'none';\n",
              "\n",
              "        async function convertToInteractive(key) {\n",
              "          const element = document.querySelector('#df-8b81f472-f5dd-4bb8-8740-92429aaad403');\n",
              "          const dataTable =\n",
              "            await google.colab.kernel.invokeFunction('convertToInteractive',\n",
              "                                                     [key], {});\n",
              "          if (!dataTable) return;\n",
              "\n",
              "          const docLinkHtml = 'Like what you see? Visit the ' +\n",
              "            '<a target=\"_blank\" href=https://colab.research.google.com/notebooks/data_table.ipynb>data table notebook</a>'\n",
              "            + ' to learn more about interactive tables.';\n",
              "          element.innerHTML = '';\n",
              "          dataTable['output_type'] = 'display_data';\n",
              "          await google.colab.output.renderOutput(dataTable, element);\n",
              "          const docLink = document.createElement('div');\n",
              "          docLink.innerHTML = docLinkHtml;\n",
              "          element.appendChild(docLink);\n",
              "        }\n",
              "      </script>\n",
              "    </div>\n",
              "  </div>\n",
              "  "
            ]
          },
          "metadata": {},
          "execution_count": 71
        }
      ]
    },
    {
      "cell_type": "code",
      "execution_count": 72,
      "metadata": {
        "id": "40Mj9Lyuh6h7",
        "colab": {
          "base_uri": "https://localhost:8080/",
          "height": 0
        },
        "outputId": "163067d5-df8f-41d3-e781-d17511c71545"
      },
      "outputs": [
        {
          "output_type": "display_data",
          "data": {
            "text/plain": [
              "<Figure size 432x288 with 1 Axes>"
            ],
            "image/png": "[encoded data removed]"
          },
          "metadata": {
            "needs_background": "light"
          }
        }
      ],
      "source": [
        "# plot feature importance\n",
        "ax = importance_df.plot.bar(x='feature names', y='importance', rot=90)"
      ]
    },
    {
      "cell_type": "code",
      "source": [
        "#By far, the 2 most important features in the model were 'connection_status_connected' and \n",
        "#'connection_status_disconnected' followed by a pretty big margin by 'disconnection_requested_remote'"
      ],
      "metadata": {
        "id": "aNkKNMIHc-xc"
      },
      "execution_count": 73,
      "outputs": []
    },
    {
      "cell_type": "markdown",
      "metadata": {
        "id": "wkWGkhkKiLki"
      },
      "source": [
        "#3 - Business sense and technical background"
      ]
    },
    {
      "cell_type": "markdown",
      "metadata": {
        "id": "qWZG9WFpiUUt"
      },
      "source": [
        "##A. Business sense"
      ]
    },
    {
      "cell_type": "markdown",
      "metadata": {
        "id": "ieBhStpFiaHE"
      },
      "source": [
        "###A1. Describe how the client could use the model to improve its debt  collection strategy."
      ]
    },
    {
      "cell_type": "code",
      "execution_count": 74,
      "metadata": {
        "id": "gf-nA57tie-h"
      },
      "outputs": [],
      "source": [
        "#Based on the variables that were provided, this model could help the clients strategy by helping decide which kind of disconnection could be applied.\n",
        "\n",
        "#If the company is able to predict the type of discconection needed to collect the debt, it could drive down the costs by increasing the productivity \n",
        "#of it's operations."
      ]
    },
    {
      "cell_type": "markdown",
      "metadata": {
        "id": "waCJ5GGCigoF"
      },
      "source": [
        "###A2. Which additional data you think would most add predictive power to the model? Explain why."
      ]
    },
    {
      "cell_type": "code",
      "execution_count": 75,
      "metadata": {
        "id": "EdIKnm_Nikyg"
      },
      "outputs": [],
      "source": [
        "#Having historical data on each customer could help the model understand if a certain client has had this problem in the in the past and what the most appropriate\n",
        "#approach for each individual client.\n",
        "\n",
        "#Also, if we're talking about major clients and not households, having each clients rating, SERASA's score or even web scapping data regarding each company, would\n",
        "#probably lead to even better classifications."
      ]
    },
    {
      "cell_type": "markdown",
      "metadata": {
        "id": "eXKlcR_MilkR"
      },
      "source": [
        "###A3. How would you access this data?"
      ]
    },
    {
      "cell_type": "code",
      "execution_count": 76,
      "metadata": {
        "id": "IDpN3AGhi2Ad"
      },
      "outputs": [],
      "source": [
        "#I'm sure that every utility company keeps data on their costumer because they use it to check for eletricity theft so as in having the historical data, \n",
        "#it wouldn't be a problem.\n",
        "\n",
        "#About the companies rating, there is normally a whole area inside the company responsible to do evaluate this data.\n",
        "#SERASA's rating is a matter of consulting it.\n",
        "#Web scrapping the data for each company would need a bot to search media outlets, social networks or specialized websites like 'reclame aqui'"
      ]
    },
    {
      "cell_type": "markdown",
      "metadata": {
        "id": "1SqLiLKTi3Oz"
      },
      "source": [
        "##B. Technical background"
      ]
    },
    {
      "cell_type": "markdown",
      "metadata": {
        "id": "PEOAt-3Ni7-M"
      },
      "source": [
        "###B1. How do you avoid overfitting and underfitting in this problem?"
      ]
    },
    {
      "cell_type": "code",
      "execution_count": 77,
      "metadata": {
        "id": "CMtnhnlci7CJ"
      },
      "outputs": [],
      "source": [
        "#When we implemented the hyperparameters tuning algorithm, we searched for the best possible outcome considering the parameters provided. These parameters\n",
        "#would provide the most fit model possible, avoiding underfitting.\n",
        "\n",
        "#When we checked how the model would perform in the test data, we were verifying if the model was overfitted. Considering that the performance was close to\n",
        "#what we observed in the training data we can safely say that it is not overfitted.\n",
        "\n",
        "#Overfitting means that the model became so specialized in a dataset that he became biased and can no longer extrapolate this knowledge."
      ]
    },
    {
      "cell_type": "markdown",
      "metadata": {
        "id": "Jl6wsC5GjCKl"
      },
      "source": [
        "###B2. Explain shortly how you would transfer your model to the client’s IT Department. (Hint: DevOps)"
      ]
    },
    {
      "cell_type": "code",
      "execution_count": 78,
      "metadata": {
        "id": "c-8VxbmVjGDc"
      },
      "outputs": [],
      "source": [
        "#As a technical standpoint, most machine learning models today are deployed as web services, the easiest way would be to save a persisted model as \n",
        "#pickle file and serve it using a web framework. An example would be a REST API using flask or django.\n",
        "\n",
        "#As project management, having an agile methodology like scrum, along with a DevOps culture, can help the process to run much more smoothly. Having developers,\n",
        "#operations and QA working together can help in continous integration, continous delivery and continous deployment. Meanwhile, working in sprints can help \n",
        "#speed up the delivery of the projects."
      ]
    }
  ],
  "metadata": {
    "accelerator": "GPU",
    "colab": {
      "collapsed_sections": [
        "i7CwgWCUgdRU",
        "ZpxSvBhkLgKu",
        "YlY1Nd6uhS8S",
        "uIMMHl2chdEF",
        "WdltwXMiZW9B",
        "aob6NjH9ZqBD",
        "aIneNzZeZv38",
        "QHmmViC5hUJo",
        "hNF3A7LzhW3b",
        "Cv2Oc18vhjJ4",
        "wkWGkhkKiLki",
        "ieBhStpFiaHE",
        "waCJ5GGCigoF",
        "eXKlcR_MilkR",
        "PEOAt-3Ni7-M",
        "Jl6wsC5GjCKl"
      ],
      "name": "MATEUS_FURLIN_BAMPI.ipynb",
      "provenance": []
    },
    "kernelspec": {
      "display_name": "Python 3",
      "name": "python3"
    },
    "language_info": {
      "name": "python"
    }
  },
  "nbformat": 4,
  "nbformat_minor": 0
}